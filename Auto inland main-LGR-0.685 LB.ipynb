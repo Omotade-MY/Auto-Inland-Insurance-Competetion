{
 "cells": [
  {
   "cell_type": "code",
   "execution_count": 21,
   "metadata": {},
   "outputs": [],
   "source": [
    "import pandas as pd\n",
    "import numpy as np\n",
    "import seaborn as sns\n",
    "import matplotlib.pyplot as plt\n",
    "%matplotlib inline\n",
    "import warnings\n",
    "warnings.filterwarnings('ignore')"
   ]
  },
  {
   "cell_type": "code",
   "execution_count": 22,
   "metadata": {},
   "outputs": [],
   "source": [
    "from sklearn.metrics import f1_score , classification_report, confusion_matrix\n",
    "from sklearn.ensemble import GradientBoostingClassifier, RandomForestClassifier, ExtraTreesClassifier\n",
    "from sklearn.ensemble import StackingClassifier, BaggingClassifier\n",
    "import xgboost as xgb\n",
    "import lightgbm\n",
    "import catboost\n",
    "from sklearn.model_selection import StratifiedKFold, train_test_split, GridSearchCV\n",
    "from sklearn.feature_selection import SelectKBest, RFECV\n",
    "from sklearn.preprocessing import MinMaxScaler, PolynomialFeatures, StandardScaler\n",
    "from sklearn.impute import SimpleImputer\n",
    "from sklearn.pipeline import Pipeline, make_union, make_pipeline\n",
    "from sklearn.cluster import KMeans"
   ]
  },
  {
   "cell_type": "markdown",
   "metadata": {},
   "source": [
    "#### Loading the data"
   ]
  },
  {
   "cell_type": "code",
   "execution_count": 23,
   "metadata": {},
   "outputs": [],
   "source": [
    "Train = pd.read_csv('Train.csv')\n",
    "Test = pd.read_csv('Test.csv')\n",
    "ss = pd.read_csv('SampleSubmission.csv')\n",
    "descr = pd.read_csv('VariableDefinitions.csv')"
   ]
  },
  {
   "cell_type": "code",
   "execution_count": 24,
   "metadata": {},
   "outputs": [],
   "source": [
    "import random\n",
    "np.random.seed(45)\n",
    "random.seed(45)"
   ]
  },
  {
   "cell_type": "code",
   "execution_count": 5,
   "metadata": {},
   "outputs": [
    {
     "data": {
      "text/html": [
       "<div>\n",
       "<style scoped>\n",
       "    .dataframe tbody tr th:only-of-type {\n",
       "        vertical-align: middle;\n",
       "    }\n",
       "\n",
       "    .dataframe tbody tr th {\n",
       "        vertical-align: top;\n",
       "    }\n",
       "\n",
       "    .dataframe thead th {\n",
       "        text-align: right;\n",
       "    }\n",
       "</style>\n",
       "<table border=\"1\" class=\"dataframe\">\n",
       "  <thead>\n",
       "    <tr style=\"text-align: right;\">\n",
       "      <th></th>\n",
       "      <th>ID</th>\n",
       "      <th>Unique ID for the customer</th>\n",
       "    </tr>\n",
       "  </thead>\n",
       "  <tbody>\n",
       "    <tr>\n",
       "      <th>0</th>\n",
       "      <td>Policy Start Date</td>\n",
       "      <td>Date policy started</td>\n",
       "    </tr>\n",
       "    <tr>\n",
       "      <th>1</th>\n",
       "      <td>Policy End Date</td>\n",
       "      <td>Date policy ended</td>\n",
       "    </tr>\n",
       "    <tr>\n",
       "      <th>2</th>\n",
       "      <td>Gender</td>\n",
       "      <td>Gender of the customer</td>\n",
       "    </tr>\n",
       "    <tr>\n",
       "      <th>3</th>\n",
       "      <td>Age</td>\n",
       "      <td>Age of the customer</td>\n",
       "    </tr>\n",
       "    <tr>\n",
       "      <th>4</th>\n",
       "      <td>ProductName</td>\n",
       "      <td>Name of Insurance policy</td>\n",
       "    </tr>\n",
       "    <tr>\n",
       "      <th>5</th>\n",
       "      <td>First Transaction Date</td>\n",
       "      <td>First date payment was made</td>\n",
       "    </tr>\n",
       "    <tr>\n",
       "      <th>6</th>\n",
       "      <td>No_Pol</td>\n",
       "      <td>Number of policies the customer has</td>\n",
       "    </tr>\n",
       "    <tr>\n",
       "      <th>7</th>\n",
       "      <td>Car_Category</td>\n",
       "      <td>Type of car</td>\n",
       "    </tr>\n",
       "    <tr>\n",
       "      <th>8</th>\n",
       "      <td>Subject_Car_Colour</td>\n",
       "      <td>Car colour</td>\n",
       "    </tr>\n",
       "    <tr>\n",
       "      <th>9</th>\n",
       "      <td>Subject_Car_Make</td>\n",
       "      <td>Car make</td>\n",
       "    </tr>\n",
       "    <tr>\n",
       "      <th>10</th>\n",
       "      <td>LGA_Name</td>\n",
       "      <td>City where policy was purchased</td>\n",
       "    </tr>\n",
       "    <tr>\n",
       "      <th>11</th>\n",
       "      <td>State</td>\n",
       "      <td>State where policy was purchased</td>\n",
       "    </tr>\n",
       "    <tr>\n",
       "      <th>12</th>\n",
       "      <td>No_of_claims_3_mon_period</td>\n",
       "      <td>Wether the customer claimed within a 3 month p...</td>\n",
       "    </tr>\n",
       "  </tbody>\n",
       "</table>\n",
       "</div>"
      ],
      "text/plain": [
       "                           ID  \\\n",
       "0           Policy Start Date   \n",
       "1             Policy End Date   \n",
       "2                      Gender   \n",
       "3                         Age   \n",
       "4                 ProductName   \n",
       "5      First Transaction Date   \n",
       "6                      No_Pol   \n",
       "7                Car_Category   \n",
       "8          Subject_Car_Colour   \n",
       "9            Subject_Car_Make   \n",
       "10                   LGA_Name   \n",
       "11                      State   \n",
       "12  No_of_claims_3_mon_period   \n",
       "\n",
       "                           Unique ID for the customer  \n",
       "0                                 Date policy started  \n",
       "1                                   Date policy ended  \n",
       "2                              Gender of the customer  \n",
       "3                                 Age of the customer  \n",
       "4                            Name of Insurance policy  \n",
       "5                         First date payment was made  \n",
       "6                 Number of policies the customer has  \n",
       "7                                         Type of car  \n",
       "8                                          Car colour  \n",
       "9                                            Car make  \n",
       "10                    City where policy was purchased  \n",
       "11                   State where policy was purchased  \n",
       "12  Wether the customer claimed within a 3 month p...  "
      ]
     },
     "execution_count": 5,
     "metadata": {},
     "output_type": "execute_result"
    }
   ],
   "source": [
    "descr"
   ]
  },
  {
   "cell_type": "code",
   "execution_count": 6,
   "metadata": {},
   "outputs": [
    {
     "data": {
      "text/html": [
       "<div>\n",
       "<style scoped>\n",
       "    .dataframe tbody tr th:only-of-type {\n",
       "        vertical-align: middle;\n",
       "    }\n",
       "\n",
       "    .dataframe tbody tr th {\n",
       "        vertical-align: top;\n",
       "    }\n",
       "\n",
       "    .dataframe thead th {\n",
       "        text-align: right;\n",
       "    }\n",
       "</style>\n",
       "<table border=\"1\" class=\"dataframe\">\n",
       "  <thead>\n",
       "    <tr style=\"text-align: right;\">\n",
       "      <th></th>\n",
       "      <th>ID</th>\n",
       "      <th>Policy Start Date</th>\n",
       "      <th>Policy End Date</th>\n",
       "      <th>Gender</th>\n",
       "      <th>Age</th>\n",
       "      <th>First Transaction Date</th>\n",
       "      <th>No_Pol</th>\n",
       "      <th>Car_Category</th>\n",
       "      <th>Subject_Car_Colour</th>\n",
       "      <th>Subject_Car_Make</th>\n",
       "      <th>LGA_Name</th>\n",
       "      <th>State</th>\n",
       "      <th>ProductName</th>\n",
       "      <th>target</th>\n",
       "    </tr>\n",
       "  </thead>\n",
       "  <tbody>\n",
       "    <tr>\n",
       "      <th>0</th>\n",
       "      <td>ID_0040R73</td>\n",
       "      <td>2010-05-14</td>\n",
       "      <td>2011-05-13</td>\n",
       "      <td>Male</td>\n",
       "      <td>30</td>\n",
       "      <td>2010-05-14</td>\n",
       "      <td>1</td>\n",
       "      <td>Saloon</td>\n",
       "      <td>Black</td>\n",
       "      <td>TOYOTA</td>\n",
       "      <td>NaN</td>\n",
       "      <td>NaN</td>\n",
       "      <td>Car Classic</td>\n",
       "      <td>0</td>\n",
       "    </tr>\n",
       "    <tr>\n",
       "      <th>1</th>\n",
       "      <td>ID_0046BNK</td>\n",
       "      <td>2010-11-29</td>\n",
       "      <td>2011-11-28</td>\n",
       "      <td>Female</td>\n",
       "      <td>79</td>\n",
       "      <td>2010-11-29</td>\n",
       "      <td>1</td>\n",
       "      <td>JEEP</td>\n",
       "      <td>Grey</td>\n",
       "      <td>TOYOTA</td>\n",
       "      <td>NaN</td>\n",
       "      <td>NaN</td>\n",
       "      <td>Car Classic</td>\n",
       "      <td>1</td>\n",
       "    </tr>\n",
       "    <tr>\n",
       "      <th>2</th>\n",
       "      <td>ID_005QMC3</td>\n",
       "      <td>2010-03-21</td>\n",
       "      <td>2011-03-20</td>\n",
       "      <td>Male</td>\n",
       "      <td>43</td>\n",
       "      <td>2010-03-21</td>\n",
       "      <td>1</td>\n",
       "      <td>Saloon</td>\n",
       "      <td>Red</td>\n",
       "      <td>TOYOTA</td>\n",
       "      <td>NaN</td>\n",
       "      <td>NaN</td>\n",
       "      <td>Car Classic</td>\n",
       "      <td>0</td>\n",
       "    </tr>\n",
       "    <tr>\n",
       "      <th>3</th>\n",
       "      <td>ID_0079OHW</td>\n",
       "      <td>2010-08-21</td>\n",
       "      <td>2011-08-20</td>\n",
       "      <td>Male</td>\n",
       "      <td>2</td>\n",
       "      <td>2010-08-21</td>\n",
       "      <td>1</td>\n",
       "      <td>NaN</td>\n",
       "      <td>NaN</td>\n",
       "      <td>NaN</td>\n",
       "      <td>NaN</td>\n",
       "      <td>NaN</td>\n",
       "      <td>CarSafe</td>\n",
       "      <td>0</td>\n",
       "    </tr>\n",
       "    <tr>\n",
       "      <th>4</th>\n",
       "      <td>ID_00BRP63</td>\n",
       "      <td>2010-08-29</td>\n",
       "      <td>2010-12-31</td>\n",
       "      <td>Entity</td>\n",
       "      <td>20</td>\n",
       "      <td>2010-08-29</td>\n",
       "      <td>3</td>\n",
       "      <td>NaN</td>\n",
       "      <td>NaN</td>\n",
       "      <td>NaN</td>\n",
       "      <td>Lagos</td>\n",
       "      <td>Lagos</td>\n",
       "      <td>Muuve</td>\n",
       "      <td>1</td>\n",
       "    </tr>\n",
       "    <tr>\n",
       "      <th>5</th>\n",
       "      <td>ID_00D3EF6</td>\n",
       "      <td>2010-10-21</td>\n",
       "      <td>2011-10-20</td>\n",
       "      <td>Male</td>\n",
       "      <td>37</td>\n",
       "      <td>2010-10-21</td>\n",
       "      <td>2</td>\n",
       "      <td>NaN</td>\n",
       "      <td>NaN</td>\n",
       "      <td>NaN</td>\n",
       "      <td>NaN</td>\n",
       "      <td>NaN</td>\n",
       "      <td>Car Classic</td>\n",
       "      <td>0</td>\n",
       "    </tr>\n",
       "    <tr>\n",
       "      <th>6</th>\n",
       "      <td>ID_00HHZ8Y</td>\n",
       "      <td>2010-08-02</td>\n",
       "      <td>2011-08-01</td>\n",
       "      <td>Female</td>\n",
       "      <td>40</td>\n",
       "      <td>2010-08-02</td>\n",
       "      <td>3</td>\n",
       "      <td>NaN</td>\n",
       "      <td>NaN</td>\n",
       "      <td>NaN</td>\n",
       "      <td>Ikeja</td>\n",
       "      <td>Lagos</td>\n",
       "      <td>CVTP</td>\n",
       "      <td>0</td>\n",
       "    </tr>\n",
       "    <tr>\n",
       "      <th>7</th>\n",
       "      <td>ID_00M1X6U</td>\n",
       "      <td>2010-09-12</td>\n",
       "      <td>2011-09-11</td>\n",
       "      <td>Male</td>\n",
       "      <td>43</td>\n",
       "      <td>2010-09-12</td>\n",
       "      <td>1</td>\n",
       "      <td>Saloon</td>\n",
       "      <td>NaN</td>\n",
       "      <td>TOYOTA</td>\n",
       "      <td>NaN</td>\n",
       "      <td>NaN</td>\n",
       "      <td>CarSafe</td>\n",
       "      <td>0</td>\n",
       "    </tr>\n",
       "    <tr>\n",
       "      <th>8</th>\n",
       "      <td>ID_00N7XT1</td>\n",
       "      <td>2010-07-06</td>\n",
       "      <td>2011-07-05</td>\n",
       "      <td>Female</td>\n",
       "      <td>71</td>\n",
       "      <td>2010-07-06</td>\n",
       "      <td>2</td>\n",
       "      <td>JEEP</td>\n",
       "      <td>Black</td>\n",
       "      <td>REXTON</td>\n",
       "      <td>Badagry</td>\n",
       "      <td>Benue</td>\n",
       "      <td>Car Classic</td>\n",
       "      <td>0</td>\n",
       "    </tr>\n",
       "    <tr>\n",
       "      <th>9</th>\n",
       "      <td>ID_00QF156</td>\n",
       "      <td>2010-12-18</td>\n",
       "      <td>2011-12-17</td>\n",
       "      <td>Female</td>\n",
       "      <td>58</td>\n",
       "      <td>2010-12-18</td>\n",
       "      <td>1</td>\n",
       "      <td>NaN</td>\n",
       "      <td>NaN</td>\n",
       "      <td>NaN</td>\n",
       "      <td>Eti-Osa</td>\n",
       "      <td>Eti-Osa</td>\n",
       "      <td>Car Classic</td>\n",
       "      <td>0</td>\n",
       "    </tr>\n",
       "  </tbody>\n",
       "</table>\n",
       "</div>"
      ],
      "text/plain": [
       "           ID Policy Start Date Policy End Date  Gender  Age  \\\n",
       "0  ID_0040R73        2010-05-14      2011-05-13    Male   30   \n",
       "1  ID_0046BNK        2010-11-29      2011-11-28  Female   79   \n",
       "2  ID_005QMC3        2010-03-21      2011-03-20    Male   43   \n",
       "3  ID_0079OHW        2010-08-21      2011-08-20    Male    2   \n",
       "4  ID_00BRP63        2010-08-29      2010-12-31  Entity   20   \n",
       "5  ID_00D3EF6        2010-10-21      2011-10-20    Male   37   \n",
       "6  ID_00HHZ8Y        2010-08-02      2011-08-01  Female   40   \n",
       "7  ID_00M1X6U        2010-09-12      2011-09-11    Male   43   \n",
       "8  ID_00N7XT1        2010-07-06      2011-07-05  Female   71   \n",
       "9  ID_00QF156        2010-12-18      2011-12-17  Female   58   \n",
       "\n",
       "  First Transaction Date  No_Pol Car_Category Subject_Car_Colour  \\\n",
       "0             2010-05-14       1       Saloon              Black   \n",
       "1             2010-11-29       1         JEEP               Grey   \n",
       "2             2010-03-21       1       Saloon                Red   \n",
       "3             2010-08-21       1          NaN                NaN   \n",
       "4             2010-08-29       3          NaN                NaN   \n",
       "5             2010-10-21       2          NaN                NaN   \n",
       "6             2010-08-02       3          NaN                NaN   \n",
       "7             2010-09-12       1       Saloon                NaN   \n",
       "8             2010-07-06       2         JEEP              Black   \n",
       "9             2010-12-18       1          NaN                NaN   \n",
       "\n",
       "  Subject_Car_Make LGA_Name    State  ProductName  target  \n",
       "0           TOYOTA      NaN      NaN  Car Classic       0  \n",
       "1           TOYOTA      NaN      NaN  Car Classic       1  \n",
       "2           TOYOTA      NaN      NaN  Car Classic       0  \n",
       "3              NaN      NaN      NaN      CarSafe       0  \n",
       "4              NaN    Lagos    Lagos        Muuve       1  \n",
       "5              NaN      NaN      NaN  Car Classic       0  \n",
       "6              NaN    Ikeja    Lagos         CVTP       0  \n",
       "7           TOYOTA      NaN      NaN      CarSafe       0  \n",
       "8           REXTON  Badagry    Benue  Car Classic       0  \n",
       "9              NaN  Eti-Osa  Eti-Osa  Car Classic       0  "
      ]
     },
     "execution_count": 6,
     "metadata": {},
     "output_type": "execute_result"
    }
   ],
   "source": [
    "Train.head(10)"
   ]
  },
  {
   "cell_type": "code",
   "execution_count": 7,
   "metadata": {},
   "outputs": [
    {
     "data": {
      "text/plain": [
       "((12079, 14), (1202, 13))"
      ]
     },
     "execution_count": 7,
     "metadata": {},
     "output_type": "execute_result"
    }
   ],
   "source": [
    "Train.shape, Test.shape"
   ]
  },
  {
   "cell_type": "code",
   "execution_count": 8,
   "metadata": {},
   "outputs": [
    {
     "name": "stdout",
     "output_type": "stream",
     "text": [
      "<class 'pandas.core.frame.DataFrame'>\n",
      "RangeIndex: 12079 entries, 0 to 12078\n",
      "Data columns (total 14 columns):\n",
      " #   Column                  Non-Null Count  Dtype \n",
      "---  ------                  --------------  ----- \n",
      " 0   ID                      12079 non-null  object\n",
      " 1   Policy Start Date       12079 non-null  object\n",
      " 2   Policy End Date         12079 non-null  object\n",
      " 3   Gender                  11720 non-null  object\n",
      " 4   Age                     12079 non-null  int64 \n",
      " 5   First Transaction Date  12079 non-null  object\n",
      " 6   No_Pol                  12079 non-null  int64 \n",
      " 7   Car_Category            8341 non-null   object\n",
      " 8   Subject_Car_Colour      5117 non-null   object\n",
      " 9   Subject_Car_Make        9603 non-null   object\n",
      " 10  LGA_Name                5603 non-null   object\n",
      " 11  State                   5591 non-null   object\n",
      " 12  ProductName             12079 non-null  object\n",
      " 13  target                  12079 non-null  int64 \n",
      "dtypes: int64(3), object(11)\n",
      "memory usage: 1.3+ MB\n"
     ]
    }
   ],
   "source": [
    "Train.info()"
   ]
  },
  {
   "cell_type": "code",
   "execution_count": 9,
   "metadata": {},
   "outputs": [
    {
     "data": {
      "text/plain": [
       "ID                         0.000000\n",
       "Policy Start Date          0.000000\n",
       "Policy End Date            0.000000\n",
       "Gender                     2.972100\n",
       "Age                        0.000000\n",
       "First Transaction Date     0.000000\n",
       "No_Pol                     0.000000\n",
       "Car_Category              30.946270\n",
       "Subject_Car_Colour        57.637222\n",
       "Subject_Car_Make          20.498386\n",
       "LGA_Name                  53.613710\n",
       "State                     53.713056\n",
       "ProductName                0.000000\n",
       "target                     0.000000\n",
       "dtype: float64"
      ]
     },
     "execution_count": 9,
     "metadata": {},
     "output_type": "execute_result"
    }
   ],
   "source": [
    "Train.isnull().sum()*100/Train.shape[0]"
   ]
  },
  {
   "cell_type": "code",
   "execution_count": 25,
   "metadata": {},
   "outputs": [
    {
     "data": {
      "text/plain": [
       "ID                         0.000000\n",
       "Policy Start Date          0.000000\n",
       "Policy End Date            0.000000\n",
       "Gender                     3.410982\n",
       "Age                        0.000000\n",
       "First Transaction Date     0.000000\n",
       "No_Pol                     0.000000\n",
       "Car_Category              30.948419\n",
       "Subject_Car_Colour        57.986689\n",
       "Subject_Car_Make          20.632280\n",
       "LGA_Name                  54.575707\n",
       "State                     54.575707\n",
       "ProductName                0.000000\n",
       "dtype: float64"
      ]
     },
     "execution_count": 25,
     "metadata": {},
     "output_type": "execute_result"
    }
   ],
   "source": [
    "(Test.isnull().sum()*100/Test.shape[0])"
   ]
  },
  {
   "cell_type": "code",
   "execution_count": 11,
   "metadata": {},
   "outputs": [
    {
     "name": "stdout",
     "output_type": "stream",
     "text": [
      "all_data size is : (13281, 13)\n"
     ]
    }
   ],
   "source": [
    "ntrain = Train.shape[0]\n",
    "ntest = Test.shape[0]\n",
    "\n",
    "all_data = pd.concat((Train.drop('target',axis=1), Test)).reset_index(drop=True)\n",
    "print(\"all_data size is : {}\".format(all_data.shape)) "
   ]
  },
  {
   "cell_type": "code",
   "execution_count": 12,
   "metadata": {},
   "outputs": [
    {
     "name": "stdout",
     "output_type": "stream",
     "text": [
      "ID :12079\n",
      "Policy Start Date :376\n",
      "Policy End Date :372\n",
      "Gender :7\n",
      "Age :110\n",
      "First Transaction Date :376\n",
      "No_Pol :8\n",
      "Car_Category :16\n",
      "Subject_Car_Colour :45\n",
      "Subject_Car_Make :74\n",
      "LGA_Name :258\n",
      "State :111\n",
      "ProductName :9\n",
      "target :2\n"
     ]
    }
   ],
   "source": [
    "def get_nunique(df):\n",
    "    for col in df.columns:\n",
    "        print('{} :{}'.format(col,df[col].nunique()))\n",
    "    return\n",
    "get_nunique(Train)    "
   ]
  },
  {
   "cell_type": "code",
   "execution_count": 13,
   "metadata": {},
   "outputs": [],
   "source": [
    "date_feat = ['Policy Start Date','Policy End Date','First Transaction Date']\n",
    "num_feat = ['Age','No_Pol']\n",
    "cat_feats = list(all_data.drop(date_feat+num_feat,axis=1).columns)"
   ]
  },
  {
   "cell_type": "code",
   "execution_count": 14,
   "metadata": {},
   "outputs": [
    {
     "data": {
      "text/html": [
       "<div>\n",
       "<style scoped>\n",
       "    .dataframe tbody tr th:only-of-type {\n",
       "        vertical-align: middle;\n",
       "    }\n",
       "\n",
       "    .dataframe tbody tr th {\n",
       "        vertical-align: top;\n",
       "    }\n",
       "\n",
       "    .dataframe thead th {\n",
       "        text-align: right;\n",
       "    }\n",
       "</style>\n",
       "<table border=\"1\" class=\"dataframe\">\n",
       "  <thead>\n",
       "    <tr style=\"text-align: right;\">\n",
       "      <th></th>\n",
       "      <th>Age</th>\n",
       "      <th>No_Pol</th>\n",
       "      <th>target</th>\n",
       "    </tr>\n",
       "  </thead>\n",
       "  <tbody>\n",
       "    <tr>\n",
       "      <th>count</th>\n",
       "      <td>12079.000000</td>\n",
       "      <td>12079.000000</td>\n",
       "      <td>12079.000000</td>\n",
       "    </tr>\n",
       "    <tr>\n",
       "      <th>mean</th>\n",
       "      <td>42.234539</td>\n",
       "      <td>1.307227</td>\n",
       "      <td>0.120457</td>\n",
       "    </tr>\n",
       "    <tr>\n",
       "      <th>std</th>\n",
       "      <td>97.492565</td>\n",
       "      <td>0.733085</td>\n",
       "      <td>0.325509</td>\n",
       "    </tr>\n",
       "    <tr>\n",
       "      <th>min</th>\n",
       "      <td>-6099.000000</td>\n",
       "      <td>1.000000</td>\n",
       "      <td>0.000000</td>\n",
       "    </tr>\n",
       "    <tr>\n",
       "      <th>25%</th>\n",
       "      <td>35.000000</td>\n",
       "      <td>1.000000</td>\n",
       "      <td>0.000000</td>\n",
       "    </tr>\n",
       "    <tr>\n",
       "      <th>50%</th>\n",
       "      <td>41.000000</td>\n",
       "      <td>1.000000</td>\n",
       "      <td>0.000000</td>\n",
       "    </tr>\n",
       "    <tr>\n",
       "      <th>75%</th>\n",
       "      <td>50.000000</td>\n",
       "      <td>1.000000</td>\n",
       "      <td>0.000000</td>\n",
       "    </tr>\n",
       "    <tr>\n",
       "      <th>max</th>\n",
       "      <td>320.000000</td>\n",
       "      <td>10.000000</td>\n",
       "      <td>1.000000</td>\n",
       "    </tr>\n",
       "  </tbody>\n",
       "</table>\n",
       "</div>"
      ],
      "text/plain": [
       "                Age        No_Pol        target\n",
       "count  12079.000000  12079.000000  12079.000000\n",
       "mean      42.234539      1.307227      0.120457\n",
       "std       97.492565      0.733085      0.325509\n",
       "min    -6099.000000      1.000000      0.000000\n",
       "25%       35.000000      1.000000      0.000000\n",
       "50%       41.000000      1.000000      0.000000\n",
       "75%       50.000000      1.000000      0.000000\n",
       "max      320.000000     10.000000      1.000000"
      ]
     },
     "execution_count": 14,
     "metadata": {},
     "output_type": "execute_result"
    }
   ],
   "source": [
    "Train.describe()"
   ]
  },
  {
   "cell_type": "code",
   "execution_count": 15,
   "metadata": {},
   "outputs": [
    {
     "data": {
      "text/plain": [
       "<matplotlib.axes._subplots.AxesSubplot at 0x1e1c90e69c8>"
      ]
     },
     "execution_count": 15,
     "metadata": {},
     "output_type": "execute_result"
    },
    {
     "data": {
      "image/png": "[encoded data removed]",
      "text/plain": [
       "<Figure size 432x288 with 1 Axes>"
      ]
     },
     "metadata": {
      "needs_background": "light"
     },
     "output_type": "display_data"
    }
   ],
   "source": [
    "sns.distplot(all_data['Age'])"
   ]
  },
  {
   "cell_type": "code",
   "execution_count": 16,
   "metadata": {},
   "outputs": [],
   "source": [
    "# Assigning all ages less than zero to 0\n",
    "all_data.loc[all_data['Age'] < 0 , 'Age']=0\n",
    "all_data.loc[all_data['Age'] > 120 , 'Age']=120"
   ]
  },
  {
   "cell_type": "code",
   "execution_count": 16,
   "metadata": {},
   "outputs": [
    {
     "data": {
      "text/plain": [
       "<matplotlib.axes._subplots.AxesSubplot at 0x1e1c9397448>"
      ]
     },
     "execution_count": 16,
     "metadata": {},
     "output_type": "execute_result"
    },
    {
     "data": {
      "image/png": "[encoded data removed]",
      "text/plain": [
       "<Figure size 432x288 with 1 Axes>"
      ]
     },
     "metadata": {
      "needs_background": "light"
     },
     "output_type": "display_data"
    }
   ],
   "source": [
    "sns.distplot(all_data['Age'])"
   ]
  },
  {
   "cell_type": "code",
   "execution_count": null,
   "metadata": {},
   "outputs": [],
   "source": [
    "a"
   ]
  },
  {
   "cell_type": "code",
   "execution_count": 17,
   "metadata": {},
   "outputs": [
    {
     "data": {
      "text/html": [
       "<div>\n",
       "<style scoped>\n",
       "    .dataframe tbody tr th:only-of-type {\n",
       "        vertical-align: middle;\n",
       "    }\n",
       "\n",
       "    .dataframe tbody tr th {\n",
       "        vertical-align: top;\n",
       "    }\n",
       "\n",
       "    .dataframe thead th {\n",
       "        text-align: right;\n",
       "    }\n",
       "</style>\n",
       "<table border=\"1\" class=\"dataframe\">\n",
       "  <thead>\n",
       "    <tr style=\"text-align: right;\">\n",
       "      <th></th>\n",
       "      <th>Age</th>\n",
       "      <th>No_Pol</th>\n",
       "    </tr>\n",
       "  </thead>\n",
       "  <tbody>\n",
       "    <tr>\n",
       "      <th>count</th>\n",
       "      <td>13281.000000</td>\n",
       "      <td>13281.000000</td>\n",
       "    </tr>\n",
       "    <tr>\n",
       "      <th>mean</th>\n",
       "      <td>42.375574</td>\n",
       "      <td>1.302763</td>\n",
       "    </tr>\n",
       "    <tr>\n",
       "      <th>std</th>\n",
       "      <td>93.170951</td>\n",
       "      <td>0.723195</td>\n",
       "    </tr>\n",
       "    <tr>\n",
       "      <th>min</th>\n",
       "      <td>-6099.000000</td>\n",
       "      <td>1.000000</td>\n",
       "    </tr>\n",
       "    <tr>\n",
       "      <th>25%</th>\n",
       "      <td>35.000000</td>\n",
       "      <td>1.000000</td>\n",
       "    </tr>\n",
       "    <tr>\n",
       "      <th>50%</th>\n",
       "      <td>41.000000</td>\n",
       "      <td>1.000000</td>\n",
       "    </tr>\n",
       "    <tr>\n",
       "      <th>75%</th>\n",
       "      <td>50.000000</td>\n",
       "      <td>1.000000</td>\n",
       "    </tr>\n",
       "    <tr>\n",
       "      <th>max</th>\n",
       "      <td>320.000000</td>\n",
       "      <td>10.000000</td>\n",
       "    </tr>\n",
       "  </tbody>\n",
       "</table>\n",
       "</div>"
      ],
      "text/plain": [
       "                Age        No_Pol\n",
       "count  13281.000000  13281.000000\n",
       "mean      42.375574      1.302763\n",
       "std       93.170951      0.723195\n",
       "min    -6099.000000      1.000000\n",
       "25%       35.000000      1.000000\n",
       "50%       41.000000      1.000000\n",
       "75%       50.000000      1.000000\n",
       "max      320.000000     10.000000"
      ]
     },
     "execution_count": 17,
     "metadata": {},
     "output_type": "execute_result"
    }
   ],
   "source": [
    "all_data.describe()"
   ]
  },
  {
   "cell_type": "code",
   "execution_count": null,
   "metadata": {},
   "outputs": [],
   "source": []
  },
  {
   "cell_type": "code",
   "execution_count": 18,
   "metadata": {},
   "outputs": [
    {
     "data": {
      "text/plain": [
       "<matplotlib.axes._subplots.AxesSubplot at 0x1e1c94d6a48>"
      ]
     },
     "execution_count": 18,
     "metadata": {},
     "output_type": "execute_result"
    },
    {
     "data": {
      "image/png": "[encoded data removed]",
      "text/plain": [
       "<Figure size 432x288 with 1 Axes>"
      ]
     },
     "metadata": {
      "needs_background": "light"
     },
     "output_type": "display_data"
    }
   ],
   "source": [
    "all_data['Age'].hist()"
   ]
  },
  {
   "cell_type": "code",
   "execution_count": 19,
   "metadata": {},
   "outputs": [],
   "source": [
    "stat_policy_product = Train.groupby('ProductName')['No_Pol'].agg(['mean','std'])"
   ]
  },
  {
   "cell_type": "code",
   "execution_count": 22,
   "metadata": {},
   "outputs": [],
   "source": [
    "avg_num_policy_product = stat_policy_product['mean'].to_dict()\n",
    "std_policy_product = stat_policy_product['std'].to_dict()"
   ]
  },
  {
   "cell_type": "code",
   "execution_count": null,
   "metadata": {},
   "outputs": [],
   "source": []
  },
  {
   "cell_type": "code",
   "execution_count": 23,
   "metadata": {},
   "outputs": [
    {
     "data": {
      "image/png": "[encoded data removed]",
      "text/plain": [
       "<Figure size 720x576 with 1 Axes>"
      ]
     },
     "metadata": {
      "needs_background": "light"
     },
     "output_type": "display_data"
    }
   ],
   "source": [
    "plt.figure(figsize=(10,8))\n",
    "sns.countplot(all_data['ProductName'], orient='h')\n",
    "plt.tight_layout()"
   ]
  },
  {
   "cell_type": "code",
   "execution_count": 24,
   "metadata": {},
   "outputs": [
    {
     "data": {
      "text/html": [
       "<div>\n",
       "<style scoped>\n",
       "    .dataframe tbody tr th:only-of-type {\n",
       "        vertical-align: middle;\n",
       "    }\n",
       "\n",
       "    .dataframe tbody tr th {\n",
       "        vertical-align: top;\n",
       "    }\n",
       "\n",
       "    .dataframe thead th {\n",
       "        text-align: right;\n",
       "    }\n",
       "</style>\n",
       "<table border=\"1\" class=\"dataframe\">\n",
       "  <thead>\n",
       "    <tr style=\"text-align: right;\">\n",
       "      <th></th>\n",
       "      <th>ID</th>\n",
       "      <th>Unique ID for the customer</th>\n",
       "    </tr>\n",
       "  </thead>\n",
       "  <tbody>\n",
       "    <tr>\n",
       "      <th>0</th>\n",
       "      <td>Policy Start Date</td>\n",
       "      <td>Date policy started</td>\n",
       "    </tr>\n",
       "    <tr>\n",
       "      <th>1</th>\n",
       "      <td>Policy End Date</td>\n",
       "      <td>Date policy ended</td>\n",
       "    </tr>\n",
       "    <tr>\n",
       "      <th>2</th>\n",
       "      <td>Gender</td>\n",
       "      <td>Gender of the customer</td>\n",
       "    </tr>\n",
       "    <tr>\n",
       "      <th>3</th>\n",
       "      <td>Age</td>\n",
       "      <td>Age of the customer</td>\n",
       "    </tr>\n",
       "    <tr>\n",
       "      <th>4</th>\n",
       "      <td>ProductName</td>\n",
       "      <td>Name of Insurance policy</td>\n",
       "    </tr>\n",
       "    <tr>\n",
       "      <th>5</th>\n",
       "      <td>First Transaction Date</td>\n",
       "      <td>First date payment was made</td>\n",
       "    </tr>\n",
       "    <tr>\n",
       "      <th>6</th>\n",
       "      <td>No_Pol</td>\n",
       "      <td>Number of policies the customer has</td>\n",
       "    </tr>\n",
       "    <tr>\n",
       "      <th>7</th>\n",
       "      <td>Car_Category</td>\n",
       "      <td>Type of car</td>\n",
       "    </tr>\n",
       "    <tr>\n",
       "      <th>8</th>\n",
       "      <td>Subject_Car_Colour</td>\n",
       "      <td>Car colour</td>\n",
       "    </tr>\n",
       "    <tr>\n",
       "      <th>9</th>\n",
       "      <td>Subject_Car_Make</td>\n",
       "      <td>Car make</td>\n",
       "    </tr>\n",
       "    <tr>\n",
       "      <th>10</th>\n",
       "      <td>LGA_Name</td>\n",
       "      <td>City where policy was purchased</td>\n",
       "    </tr>\n",
       "    <tr>\n",
       "      <th>11</th>\n",
       "      <td>State</td>\n",
       "      <td>State where policy was purchased</td>\n",
       "    </tr>\n",
       "    <tr>\n",
       "      <th>12</th>\n",
       "      <td>No_of_claims_3_mon_period</td>\n",
       "      <td>Wether the customer claimed within a 3 month p...</td>\n",
       "    </tr>\n",
       "  </tbody>\n",
       "</table>\n",
       "</div>"
      ],
      "text/plain": [
       "                           ID  \\\n",
       "0           Policy Start Date   \n",
       "1             Policy End Date   \n",
       "2                      Gender   \n",
       "3                         Age   \n",
       "4                 ProductName   \n",
       "5      First Transaction Date   \n",
       "6                      No_Pol   \n",
       "7                Car_Category   \n",
       "8          Subject_Car_Colour   \n",
       "9            Subject_Car_Make   \n",
       "10                   LGA_Name   \n",
       "11                      State   \n",
       "12  No_of_claims_3_mon_period   \n",
       "\n",
       "                           Unique ID for the customer  \n",
       "0                                 Date policy started  \n",
       "1                                   Date policy ended  \n",
       "2                              Gender of the customer  \n",
       "3                                 Age of the customer  \n",
       "4                            Name of Insurance policy  \n",
       "5                         First date payment was made  \n",
       "6                 Number of policies the customer has  \n",
       "7                                         Type of car  \n",
       "8                                          Car colour  \n",
       "9                                            Car make  \n",
       "10                    City where policy was purchased  \n",
       "11                   State where policy was purchased  \n",
       "12  Wether the customer claimed within a 3 month p...  "
      ]
     },
     "execution_count": 24,
     "metadata": {},
     "output_type": "execute_result"
    }
   ],
   "source": [
    "descr"
   ]
  },
  {
   "cell_type": "code",
   "execution_count": 20,
   "metadata": {},
   "outputs": [
    {
     "name": "stdout",
     "output_type": "stream",
     "text": [
      "{True}\n"
     ]
    }
   ],
   "source": [
    "print(set(all_data['First Transaction Date'] == all_data['Policy Start Date']))\n",
    "\n",
    "\n",
    "dropable = ['First Transaction Date']"
   ]
  },
  {
   "cell_type": "code",
   "execution_count": 29,
   "metadata": {},
   "outputs": [],
   "source": [
    "def to_datetime(df,cols):\n",
    "    X = df.copy()\n",
    "    for col in cols:\n",
    "        X[col] = pd.to_datetime(X[col])\n",
    "    return X\n",
    "all_data = to_datetime(all_data,date_feat)"
   ]
  },
  {
   "cell_type": "code",
   "execution_count": 30,
   "metadata": {},
   "outputs": [],
   "source": [
    "def extract_date_info(df,cols,):\n",
    "    X = df.copy()\n",
    "    for feat in cols:\n",
    "        X[f'{feat}_year'] = X[feat].dt.year\n",
    "        X[f'{feat}_day'] = X[feat].dt.day_name()\n",
    "        X[f'{feat}_date'] = X[feat].dt.day\n",
    "        X[f'{feat}_month'] = X[feat].dt.month\n",
    "        X[f'{feat}_quarter'] = X[feat].dt.quarter\n",
    "        \n",
    "        #X[f'{feat}_is_month_end'] = X[feat].dt.is_month_end\n",
    "    X.drop(columns=cols,axis=1, inplace=True)\n",
    "    \n",
    "    return X\n",
    "    "
   ]
  },
  {
   "cell_type": "code",
   "execution_count": 31,
   "metadata": {},
   "outputs": [
    {
     "data": {
      "text/plain": [
       "['Policy Start Date', 'Policy End Date']"
      ]
     },
     "execution_count": 31,
     "metadata": {},
     "output_type": "execute_result"
    }
   ],
   "source": [
    "date_feat[:-1]"
   ]
  },
  {
   "cell_type": "code",
   "execution_count": 32,
   "metadata": {},
   "outputs": [],
   "source": [
    "df = extract_date_info(all_data,date_feat[:-1]).drop('First Transaction Date', axis=1)"
   ]
  },
  {
   "cell_type": "code",
   "execution_count": 33,
   "metadata": {},
   "outputs": [],
   "source": [
    "#df['num_product_policy_std'] = all_data['ProductName'].map(std_policy_product)\n",
    "#df['avg_policy_product'] = all_data['ProductName'].map(avg_num_policy_product)"
   ]
  },
  {
   "cell_type": "code",
   "execution_count": 34,
   "metadata": {},
   "outputs": [
    {
     "data": {
      "text/html": [
       "<div>\n",
       "<style scoped>\n",
       "    .dataframe tbody tr th:only-of-type {\n",
       "        vertical-align: middle;\n",
       "    }\n",
       "\n",
       "    .dataframe tbody tr th {\n",
       "        vertical-align: top;\n",
       "    }\n",
       "\n",
       "    .dataframe thead th {\n",
       "        text-align: right;\n",
       "    }\n",
       "</style>\n",
       "<table border=\"1\" class=\"dataframe\">\n",
       "  <thead>\n",
       "    <tr style=\"text-align: right;\">\n",
       "      <th></th>\n",
       "      <th>ID</th>\n",
       "      <th>Gender</th>\n",
       "      <th>Age</th>\n",
       "      <th>No_Pol</th>\n",
       "      <th>Car_Category</th>\n",
       "      <th>Subject_Car_Colour</th>\n",
       "      <th>Subject_Car_Make</th>\n",
       "      <th>LGA_Name</th>\n",
       "      <th>State</th>\n",
       "      <th>ProductName</th>\n",
       "      <th>Policy Start Date_year</th>\n",
       "      <th>Policy Start Date_day</th>\n",
       "      <th>Policy Start Date_date</th>\n",
       "      <th>Policy Start Date_month</th>\n",
       "      <th>Policy Start Date_quarter</th>\n",
       "      <th>Policy End Date_year</th>\n",
       "      <th>Policy End Date_day</th>\n",
       "      <th>Policy End Date_date</th>\n",
       "      <th>Policy End Date_month</th>\n",
       "      <th>Policy End Date_quarter</th>\n",
       "    </tr>\n",
       "  </thead>\n",
       "  <tbody>\n",
       "    <tr>\n",
       "      <th>0</th>\n",
       "      <td>ID_0040R73</td>\n",
       "      <td>Male</td>\n",
       "      <td>30</td>\n",
       "      <td>1</td>\n",
       "      <td>Saloon</td>\n",
       "      <td>Black</td>\n",
       "      <td>TOYOTA</td>\n",
       "      <td>NaN</td>\n",
       "      <td>NaN</td>\n",
       "      <td>Car Classic</td>\n",
       "      <td>2010</td>\n",
       "      <td>Friday</td>\n",
       "      <td>14</td>\n",
       "      <td>5</td>\n",
       "      <td>2</td>\n",
       "      <td>2011</td>\n",
       "      <td>Friday</td>\n",
       "      <td>13</td>\n",
       "      <td>5</td>\n",
       "      <td>2</td>\n",
       "    </tr>\n",
       "    <tr>\n",
       "      <th>1</th>\n",
       "      <td>ID_0046BNK</td>\n",
       "      <td>Female</td>\n",
       "      <td>79</td>\n",
       "      <td>1</td>\n",
       "      <td>JEEP</td>\n",
       "      <td>Grey</td>\n",
       "      <td>TOYOTA</td>\n",
       "      <td>NaN</td>\n",
       "      <td>NaN</td>\n",
       "      <td>Car Classic</td>\n",
       "      <td>2010</td>\n",
       "      <td>Monday</td>\n",
       "      <td>29</td>\n",
       "      <td>11</td>\n",
       "      <td>4</td>\n",
       "      <td>2011</td>\n",
       "      <td>Monday</td>\n",
       "      <td>28</td>\n",
       "      <td>11</td>\n",
       "      <td>4</td>\n",
       "    </tr>\n",
       "    <tr>\n",
       "      <th>2</th>\n",
       "      <td>ID_005QMC3</td>\n",
       "      <td>Male</td>\n",
       "      <td>43</td>\n",
       "      <td>1</td>\n",
       "      <td>Saloon</td>\n",
       "      <td>Red</td>\n",
       "      <td>TOYOTA</td>\n",
       "      <td>NaN</td>\n",
       "      <td>NaN</td>\n",
       "      <td>Car Classic</td>\n",
       "      <td>2010</td>\n",
       "      <td>Sunday</td>\n",
       "      <td>21</td>\n",
       "      <td>3</td>\n",
       "      <td>1</td>\n",
       "      <td>2011</td>\n",
       "      <td>Sunday</td>\n",
       "      <td>20</td>\n",
       "      <td>3</td>\n",
       "      <td>1</td>\n",
       "    </tr>\n",
       "    <tr>\n",
       "      <th>3</th>\n",
       "      <td>ID_0079OHW</td>\n",
       "      <td>Male</td>\n",
       "      <td>2</td>\n",
       "      <td>1</td>\n",
       "      <td>NaN</td>\n",
       "      <td>NaN</td>\n",
       "      <td>NaN</td>\n",
       "      <td>NaN</td>\n",
       "      <td>NaN</td>\n",
       "      <td>CarSafe</td>\n",
       "      <td>2010</td>\n",
       "      <td>Saturday</td>\n",
       "      <td>21</td>\n",
       "      <td>8</td>\n",
       "      <td>3</td>\n",
       "      <td>2011</td>\n",
       "      <td>Saturday</td>\n",
       "      <td>20</td>\n",
       "      <td>8</td>\n",
       "      <td>3</td>\n",
       "    </tr>\n",
       "    <tr>\n",
       "      <th>4</th>\n",
       "      <td>ID_00BRP63</td>\n",
       "      <td>Entity</td>\n",
       "      <td>20</td>\n",
       "      <td>3</td>\n",
       "      <td>NaN</td>\n",
       "      <td>NaN</td>\n",
       "      <td>NaN</td>\n",
       "      <td>Lagos</td>\n",
       "      <td>Lagos</td>\n",
       "      <td>Muuve</td>\n",
       "      <td>2010</td>\n",
       "      <td>Sunday</td>\n",
       "      <td>29</td>\n",
       "      <td>8</td>\n",
       "      <td>3</td>\n",
       "      <td>2010</td>\n",
       "      <td>Friday</td>\n",
       "      <td>31</td>\n",
       "      <td>12</td>\n",
       "      <td>4</td>\n",
       "    </tr>\n",
       "    <tr>\n",
       "      <th>...</th>\n",
       "      <td>...</td>\n",
       "      <td>...</td>\n",
       "      <td>...</td>\n",
       "      <td>...</td>\n",
       "      <td>...</td>\n",
       "      <td>...</td>\n",
       "      <td>...</td>\n",
       "      <td>...</td>\n",
       "      <td>...</td>\n",
       "      <td>...</td>\n",
       "      <td>...</td>\n",
       "      <td>...</td>\n",
       "      <td>...</td>\n",
       "      <td>...</td>\n",
       "      <td>...</td>\n",
       "      <td>...</td>\n",
       "      <td>...</td>\n",
       "      <td>...</td>\n",
       "      <td>...</td>\n",
       "      <td>...</td>\n",
       "    </tr>\n",
       "    <tr>\n",
       "      <th>13276</th>\n",
       "      <td>ID_ZTTHC5X</td>\n",
       "      <td>Male</td>\n",
       "      <td>67</td>\n",
       "      <td>2</td>\n",
       "      <td>JEEP</td>\n",
       "      <td>Black</td>\n",
       "      <td>TOYOTA</td>\n",
       "      <td>Victoria Island</td>\n",
       "      <td>Lagos</td>\n",
       "      <td>Car Classic</td>\n",
       "      <td>2010</td>\n",
       "      <td>Sunday</td>\n",
       "      <td>5</td>\n",
       "      <td>12</td>\n",
       "      <td>4</td>\n",
       "      <td>2011</td>\n",
       "      <td>Sunday</td>\n",
       "      <td>4</td>\n",
       "      <td>12</td>\n",
       "      <td>4</td>\n",
       "    </tr>\n",
       "    <tr>\n",
       "      <th>13277</th>\n",
       "      <td>ID_ZUJAFUP</td>\n",
       "      <td>Male</td>\n",
       "      <td>43</td>\n",
       "      <td>1</td>\n",
       "      <td>Saloon</td>\n",
       "      <td>Silver</td>\n",
       "      <td>Hyundai</td>\n",
       "      <td>Surulere</td>\n",
       "      <td>Lagos</td>\n",
       "      <td>Car Classic</td>\n",
       "      <td>2010</td>\n",
       "      <td>Thursday</td>\n",
       "      <td>14</td>\n",
       "      <td>1</td>\n",
       "      <td>1</td>\n",
       "      <td>2011</td>\n",
       "      <td>Thursday</td>\n",
       "      <td>13</td>\n",
       "      <td>1</td>\n",
       "      <td>1</td>\n",
       "    </tr>\n",
       "    <tr>\n",
       "      <th>13278</th>\n",
       "      <td>ID_ZWHCTUM</td>\n",
       "      <td>Male</td>\n",
       "      <td>30</td>\n",
       "      <td>1</td>\n",
       "      <td>Truck</td>\n",
       "      <td>White</td>\n",
       "      <td>Iveco</td>\n",
       "      <td>Victoria Island</td>\n",
       "      <td>Lagos</td>\n",
       "      <td>CVTP</td>\n",
       "      <td>2010</td>\n",
       "      <td>Monday</td>\n",
       "      <td>26</td>\n",
       "      <td>7</td>\n",
       "      <td>3</td>\n",
       "      <td>2011</td>\n",
       "      <td>Monday</td>\n",
       "      <td>25</td>\n",
       "      <td>7</td>\n",
       "      <td>3</td>\n",
       "    </tr>\n",
       "    <tr>\n",
       "      <th>13279</th>\n",
       "      <td>ID_ZWQRL8L</td>\n",
       "      <td>Male</td>\n",
       "      <td>44</td>\n",
       "      <td>2</td>\n",
       "      <td>Saloon</td>\n",
       "      <td>NaN</td>\n",
       "      <td>Nissan</td>\n",
       "      <td>Aba North</td>\n",
       "      <td>Aba-North</td>\n",
       "      <td>Car Classic</td>\n",
       "      <td>2010</td>\n",
       "      <td>Tuesday</td>\n",
       "      <td>16</td>\n",
       "      <td>2</td>\n",
       "      <td>1</td>\n",
       "      <td>2011</td>\n",
       "      <td>Tuesday</td>\n",
       "      <td>15</td>\n",
       "      <td>2</td>\n",
       "      <td>1</td>\n",
       "    </tr>\n",
       "    <tr>\n",
       "      <th>13280</th>\n",
       "      <td>ID_ZWZ92GU</td>\n",
       "      <td>Male</td>\n",
       "      <td>28</td>\n",
       "      <td>1</td>\n",
       "      <td>Saloon</td>\n",
       "      <td>Silver</td>\n",
       "      <td>TOYOTA</td>\n",
       "      <td>NaN</td>\n",
       "      <td>NaN</td>\n",
       "      <td>Car Classic</td>\n",
       "      <td>2010</td>\n",
       "      <td>Thursday</td>\n",
       "      <td>18</td>\n",
       "      <td>3</td>\n",
       "      <td>1</td>\n",
       "      <td>2011</td>\n",
       "      <td>Thursday</td>\n",
       "      <td>17</td>\n",
       "      <td>3</td>\n",
       "      <td>1</td>\n",
       "    </tr>\n",
       "  </tbody>\n",
       "</table>\n",
       "<p>13281 rows × 20 columns</p>\n",
       "</div>"
      ],
      "text/plain": [
       "               ID  Gender  Age  No_Pol Car_Category Subject_Car_Colour  \\\n",
       "0      ID_0040R73    Male   30       1       Saloon              Black   \n",
       "1      ID_0046BNK  Female   79       1         JEEP               Grey   \n",
       "2      ID_005QMC3    Male   43       1       Saloon                Red   \n",
       "3      ID_0079OHW    Male    2       1          NaN                NaN   \n",
       "4      ID_00BRP63  Entity   20       3          NaN                NaN   \n",
       "...           ...     ...  ...     ...          ...                ...   \n",
       "13276  ID_ZTTHC5X    Male   67       2         JEEP              Black   \n",
       "13277  ID_ZUJAFUP    Male   43       1       Saloon             Silver   \n",
       "13278  ID_ZWHCTUM    Male   30       1        Truck              White   \n",
       "13279  ID_ZWQRL8L    Male   44       2       Saloon                NaN   \n",
       "13280  ID_ZWZ92GU    Male   28       1       Saloon             Silver   \n",
       "\n",
       "      Subject_Car_Make         LGA_Name      State  ProductName  \\\n",
       "0               TOYOTA              NaN        NaN  Car Classic   \n",
       "1               TOYOTA              NaN        NaN  Car Classic   \n",
       "2               TOYOTA              NaN        NaN  Car Classic   \n",
       "3                  NaN              NaN        NaN      CarSafe   \n",
       "4                  NaN            Lagos      Lagos        Muuve   \n",
       "...                ...              ...        ...          ...   \n",
       "13276           TOYOTA  Victoria Island      Lagos  Car Classic   \n",
       "13277          Hyundai         Surulere      Lagos  Car Classic   \n",
       "13278            Iveco  Victoria Island      Lagos         CVTP   \n",
       "13279           Nissan        Aba North  Aba-North  Car Classic   \n",
       "13280           TOYOTA              NaN        NaN  Car Classic   \n",
       "\n",
       "       Policy Start Date_year Policy Start Date_day  Policy Start Date_date  \\\n",
       "0                        2010                Friday                      14   \n",
       "1                        2010                Monday                      29   \n",
       "2                        2010                Sunday                      21   \n",
       "3                        2010              Saturday                      21   \n",
       "4                        2010                Sunday                      29   \n",
       "...                       ...                   ...                     ...   \n",
       "13276                    2010                Sunday                       5   \n",
       "13277                    2010              Thursday                      14   \n",
       "13278                    2010                Monday                      26   \n",
       "13279                    2010               Tuesday                      16   \n",
       "13280                    2010              Thursday                      18   \n",
       "\n",
       "       Policy Start Date_month  Policy Start Date_quarter  \\\n",
       "0                            5                          2   \n",
       "1                           11                          4   \n",
       "2                            3                          1   \n",
       "3                            8                          3   \n",
       "4                            8                          3   \n",
       "...                        ...                        ...   \n",
       "13276                       12                          4   \n",
       "13277                        1                          1   \n",
       "13278                        7                          3   \n",
       "13279                        2                          1   \n",
       "13280                        3                          1   \n",
       "\n",
       "       Policy End Date_year Policy End Date_day  Policy End Date_date  \\\n",
       "0                      2011              Friday                    13   \n",
       "1                      2011              Monday                    28   \n",
       "2                      2011              Sunday                    20   \n",
       "3                      2011            Saturday                    20   \n",
       "4                      2010              Friday                    31   \n",
       "...                     ...                 ...                   ...   \n",
       "13276                  2011              Sunday                     4   \n",
       "13277                  2011            Thursday                    13   \n",
       "13278                  2011              Monday                    25   \n",
       "13279                  2011             Tuesday                    15   \n",
       "13280                  2011            Thursday                    17   \n",
       "\n",
       "       Policy End Date_month  Policy End Date_quarter  \n",
       "0                          5                        2  \n",
       "1                         11                        4  \n",
       "2                          3                        1  \n",
       "3                          8                        3  \n",
       "4                         12                        4  \n",
       "...                      ...                      ...  \n",
       "13276                     12                        4  \n",
       "13277                      1                        1  \n",
       "13278                      7                        3  \n",
       "13279                      2                        1  \n",
       "13280                      3                        1  \n",
       "\n",
       "[13281 rows x 20 columns]"
      ]
     },
     "execution_count": 34,
     "metadata": {},
     "output_type": "execute_result"
    }
   ],
   "source": [
    "df"
   ]
  },
  {
   "cell_type": "code",
   "execution_count": 35,
   "metadata": {},
   "outputs": [
    {
     "name": "stdout",
     "output_type": "stream",
     "text": [
      "<class 'pandas.core.frame.DataFrame'>\n",
      "RangeIndex: 13281 entries, 0 to 13280\n",
      "Data columns (total 8 columns):\n",
      " #   Column              Non-Null Count  Dtype \n",
      "---  ------              --------------  ----- \n",
      " 0   ID                  13281 non-null  object\n",
      " 1   Gender              12881 non-null  object\n",
      " 2   Car_Category        9171 non-null   object\n",
      " 3   Subject_Car_Colour  5622 non-null   object\n",
      " 4   Subject_Car_Make    10557 non-null  object\n",
      " 5   LGA_Name            6149 non-null   object\n",
      " 6   State               6137 non-null   object\n",
      " 7   ProductName         13281 non-null  object\n",
      "dtypes: object(8)\n",
      "memory usage: 830.2+ KB\n"
     ]
    }
   ],
   "source": [
    "df[cat_feats].info()"
   ]
  },
  {
   "cell_type": "code",
   "execution_count": 36,
   "metadata": {},
   "outputs": [],
   "source": [
    "missing_like = ['Subject_Car_Colour','LGA_Name','State']"
   ]
  },
  {
   "cell_type": "code",
   "execution_count": 37,
   "metadata": {},
   "outputs": [
    {
     "data": {
      "text/plain": [
       "Victoria Island    1284\n",
       "Ikeja               438\n",
       "Surulere            306\n",
       "Abuja Municipal     257\n",
       "Lagos Mainland      245\n",
       "                   ... \n",
       "Ikwerre               1\n",
       "Owerri North          1\n",
       "Garki                 1\n",
       "Orsu                  1\n",
       "Oshimili North        1\n",
       "Name: LGA_Name, Length: 270, dtype: int64"
      ]
     },
     "execution_count": 37,
     "metadata": {},
     "output_type": "execute_result"
    }
   ],
   "source": [
    "df['LGA_Name'].value_counts()"
   ]
  },
  {
   "cell_type": "code",
   "execution_count": null,
   "metadata": {},
   "outputs": [],
   "source": []
  },
  {
   "cell_type": "code",
   "execution_count": 38,
   "metadata": {},
   "outputs": [],
   "source": [
    "year_feat = ['Policy Start Date_year','Policy End Date_year']"
   ]
  },
  {
   "cell_type": "code",
   "execution_count": 39,
   "metadata": {},
   "outputs": [
    {
     "data": {
      "text/html": [
       "<div>\n",
       "<style scoped>\n",
       "    .dataframe tbody tr th:only-of-type {\n",
       "        vertical-align: middle;\n",
       "    }\n",
       "\n",
       "    .dataframe tbody tr th {\n",
       "        vertical-align: top;\n",
       "    }\n",
       "\n",
       "    .dataframe thead th {\n",
       "        text-align: right;\n",
       "    }\n",
       "</style>\n",
       "<table border=\"1\" class=\"dataframe\">\n",
       "  <thead>\n",
       "    <tr style=\"text-align: right;\">\n",
       "      <th></th>\n",
       "      <th>Policy Start Date_year</th>\n",
       "      <th>Policy End Date_year</th>\n",
       "    </tr>\n",
       "  </thead>\n",
       "  <tbody>\n",
       "    <tr>\n",
       "      <th>0</th>\n",
       "      <td>2010</td>\n",
       "      <td>2011</td>\n",
       "    </tr>\n",
       "    <tr>\n",
       "      <th>1</th>\n",
       "      <td>2010</td>\n",
       "      <td>2011</td>\n",
       "    </tr>\n",
       "    <tr>\n",
       "      <th>2</th>\n",
       "      <td>2010</td>\n",
       "      <td>2011</td>\n",
       "    </tr>\n",
       "    <tr>\n",
       "      <th>3</th>\n",
       "      <td>2010</td>\n",
       "      <td>2011</td>\n",
       "    </tr>\n",
       "    <tr>\n",
       "      <th>4</th>\n",
       "      <td>2010</td>\n",
       "      <td>2010</td>\n",
       "    </tr>\n",
       "    <tr>\n",
       "      <th>...</th>\n",
       "      <td>...</td>\n",
       "      <td>...</td>\n",
       "    </tr>\n",
       "    <tr>\n",
       "      <th>13276</th>\n",
       "      <td>2010</td>\n",
       "      <td>2011</td>\n",
       "    </tr>\n",
       "    <tr>\n",
       "      <th>13277</th>\n",
       "      <td>2010</td>\n",
       "      <td>2011</td>\n",
       "    </tr>\n",
       "    <tr>\n",
       "      <th>13278</th>\n",
       "      <td>2010</td>\n",
       "      <td>2011</td>\n",
       "    </tr>\n",
       "    <tr>\n",
       "      <th>13279</th>\n",
       "      <td>2010</td>\n",
       "      <td>2011</td>\n",
       "    </tr>\n",
       "    <tr>\n",
       "      <th>13280</th>\n",
       "      <td>2010</td>\n",
       "      <td>2011</td>\n",
       "    </tr>\n",
       "  </tbody>\n",
       "</table>\n",
       "<p>13281 rows × 2 columns</p>\n",
       "</div>"
      ],
      "text/plain": [
       "       Policy Start Date_year  Policy End Date_year\n",
       "0                        2010                  2011\n",
       "1                        2010                  2011\n",
       "2                        2010                  2011\n",
       "3                        2010                  2011\n",
       "4                        2010                  2010\n",
       "...                       ...                   ...\n",
       "13276                    2010                  2011\n",
       "13277                    2010                  2011\n",
       "13278                    2010                  2011\n",
       "13279                    2010                  2011\n",
       "13280                    2010                  2011\n",
       "\n",
       "[13281 rows x 2 columns]"
      ]
     },
     "execution_count": 39,
     "metadata": {},
     "output_type": "execute_result"
    }
   ],
   "source": [
    "df[year_feat]"
   ]
  },
  {
   "cell_type": "code",
   "execution_count": 40,
   "metadata": {},
   "outputs": [
    {
     "name": "stdout",
     "output_type": "stream",
     "text": [
      "<class 'pandas.core.frame.DataFrame'>\n",
      "RangeIndex: 13281 entries, 0 to 13280\n",
      "Data columns (total 20 columns):\n",
      " #   Column                     Non-Null Count  Dtype \n",
      "---  ------                     --------------  ----- \n",
      " 0   ID                         13281 non-null  object\n",
      " 1   Gender                     12881 non-null  object\n",
      " 2   Age                        13281 non-null  int64 \n",
      " 3   No_Pol                     13281 non-null  int64 \n",
      " 4   Car_Category               9171 non-null   object\n",
      " 5   Subject_Car_Colour         5622 non-null   object\n",
      " 6   Subject_Car_Make           10557 non-null  object\n",
      " 7   LGA_Name                   6149 non-null   object\n",
      " 8   State                      6137 non-null   object\n",
      " 9   ProductName                13281 non-null  object\n",
      " 10  Policy Start Date_year     13281 non-null  int64 \n",
      " 11  Policy Start Date_day      13281 non-null  object\n",
      " 12  Policy Start Date_date     13281 non-null  int64 \n",
      " 13  Policy Start Date_month    13281 non-null  int64 \n",
      " 14  Policy Start Date_quarter  13281 non-null  int64 \n",
      " 15  Policy End Date_year       13281 non-null  int64 \n",
      " 16  Policy End Date_day        13281 non-null  object\n",
      " 17  Policy End Date_date       13281 non-null  int64 \n",
      " 18  Policy End Date_month      13281 non-null  int64 \n",
      " 19  Policy End Date_quarter    13281 non-null  int64 \n",
      "dtypes: int64(10), object(10)\n",
      "memory usage: 2.0+ MB\n"
     ]
    }
   ],
   "source": [
    "df.info()"
   ]
  },
  {
   "cell_type": "code",
   "execution_count": 41,
   "metadata": {},
   "outputs": [],
   "source": [
    "df['Tenure_of_Policy'] = df['Policy End Date_year'] - df['Policy Start Date_year']\n",
    "\n",
    "#df.drop(year_feat, inplace=True, axis=1)"
   ]
  },
  {
   "cell_type": "code",
   "execution_count": 42,
   "metadata": {},
   "outputs": [],
   "source": [
    "#Get the new dataset\n",
    "train = df[:ntrain].drop('ID', axis=1)\n",
    "test = df[ntrain:].drop('ID', axis=1)"
   ]
  },
  {
   "cell_type": "code",
   "execution_count": 43,
   "metadata": {},
   "outputs": [],
   "source": [
    "cat = train.select_dtypes(include=['object']).columns\n",
    "num = train.drop(cat,axis=1).columns"
   ]
  },
  {
   "cell_type": "code",
   "execution_count": 44,
   "metadata": {},
   "outputs": [],
   "source": [
    "on_check = ['Policy Start Date_quarter', 'Policy End Date_quarter',\n",
    "       'First Transaction Date_quarter']"
   ]
  },
  {
   "cell_type": "code",
   "execution_count": 45,
   "metadata": {},
   "outputs": [],
   "source": [
    "impute = SimpleImputer(strategy='most_frequent')\n",
    "tr_train = pd.DataFrame(impute.fit_transform(train.drop(missing_like,axis=1)), columns=train.drop(missing_like,axis=1).columns)\n",
    "tr_test = pd.DataFrame(impute.transform(test.drop(missing_like,axis=1)), columns=test.drop(missing_like,axis=1).columns)"
   ]
  },
  {
   "cell_type": "code",
   "execution_count": 46,
   "metadata": {},
   "outputs": [],
   "source": [
    "tr_train[num] = tr_train[num].astype(int)\n",
    "tr_test[num] = tr_test[num].astype(int)"
   ]
  },
  {
   "cell_type": "code",
   "execution_count": 47,
   "metadata": {},
   "outputs": [],
   "source": [
    "tr_train = pd.concat([tr_train,Train[missing_like]], axis=1).fillna('Not_Given')\n",
    "tr_test = pd.concat([tr_test,Test[missing_like]], axis=1).fillna('Not_Given')"
   ]
  },
  {
   "cell_type": "code",
   "execution_count": 48,
   "metadata": {},
   "outputs": [
    {
     "name": "stdout",
     "output_type": "stream",
     "text": [
      "all_data size is : (13281, 20)\n"
     ]
    }
   ],
   "source": [
    "ntrain = tr_train.shape[0]\n",
    "ntest = tr_test.shape[0]\n",
    "\n",
    "data = pd.concat((tr_train, tr_test)).reset_index(drop=True)\n",
    "print(\"all_data size is : {}\".format(data.shape)) "
   ]
  },
  {
   "cell_type": "code",
   "execution_count": 49,
   "metadata": {},
   "outputs": [
    {
     "name": "stdout",
     "output_type": "stream",
     "text": [
      "<class 'pandas.core.frame.DataFrame'>\n",
      "RangeIndex: 12079 entries, 0 to 12078\n",
      "Data columns (total 20 columns):\n",
      " #   Column                     Non-Null Count  Dtype \n",
      "---  ------                     --------------  ----- \n",
      " 0   Gender                     12079 non-null  object\n",
      " 1   Age                        12079 non-null  int32 \n",
      " 2   No_Pol                     12079 non-null  int32 \n",
      " 3   Car_Category               12079 non-null  object\n",
      " 4   Subject_Car_Make           12079 non-null  object\n",
      " 5   ProductName                12079 non-null  object\n",
      " 6   Policy Start Date_year     12079 non-null  int32 \n",
      " 7   Policy Start Date_day      12079 non-null  object\n",
      " 8   Policy Start Date_date     12079 non-null  int32 \n",
      " 9   Policy Start Date_month    12079 non-null  int32 \n",
      " 10  Policy Start Date_quarter  12079 non-null  int32 \n",
      " 11  Policy End Date_year       12079 non-null  int32 \n",
      " 12  Policy End Date_day        12079 non-null  object\n",
      " 13  Policy End Date_date       12079 non-null  int32 \n",
      " 14  Policy End Date_month      12079 non-null  int32 \n",
      " 15  Policy End Date_quarter    12079 non-null  int32 \n",
      " 16  Tenure_of_Policy           12079 non-null  int32 \n",
      " 17  Subject_Car_Colour         12079 non-null  object\n",
      " 18  LGA_Name                   12079 non-null  object\n",
      " 19  State                      12079 non-null  object\n",
      "dtypes: int32(11), object(9)\n",
      "memory usage: 1.3+ MB\n"
     ]
    }
   ],
   "source": [
    "tr_train.info()"
   ]
  },
  {
   "cell_type": "code",
   "execution_count": 50,
   "metadata": {},
   "outputs": [
    {
     "data": {
      "text/plain": [
       "Not_Given         6962\n",
       "Black             1880\n",
       "Silver             554\n",
       "Grey               514\n",
       "As Attached        498\n",
       "Blue               361\n",
       "White              293\n",
       "Red                251\n",
       "Green              233\n",
       "Gold               173\n",
       "Ash                133\n",
       "Wine                89\n",
       "Brown               58\n",
       "Cream                8\n",
       "Yellow               8\n",
       "Dark Gray            5\n",
       "White & Blue         5\n",
       "Orange               5\n",
       "Purple               4\n",
       "Red & White          4\n",
       "D. Red               3\n",
       "Blue & Red           3\n",
       "Light Green          3\n",
       "B.Silver             2\n",
       "Dark Grey            2\n",
       "Red & Black          2\n",
       "White & Red          2\n",
       "Black & Orange       2\n",
       "Gray & Gray          2\n",
       "Dark Blue            2\n",
       "Gray & Silver        2\n",
       "Black & White        2\n",
       "Light Blue           1\n",
       "D. Gold              1\n",
       "Burgundy             1\n",
       "White & Yellow       1\n",
       "Red & Blue           1\n",
       "Blue Sky             1\n",
       "Champagne            1\n",
       "Dark Red             1\n",
       "Beige Mitalic        1\n",
       "Yellow & White       1\n",
       "Blue&White&Red       1\n",
       "Dark Green           1\n",
       "Red & Yellow         1\n",
       "Light Gray           1\n",
       "Name: Subject_Car_Colour, dtype: int64"
      ]
     },
     "execution_count": 50,
     "metadata": {},
     "output_type": "execute_result"
    }
   ],
   "source": [
    "tr_train['Subject_Car_Colour'].value_counts()"
   ]
  },
  {
   "cell_type": "code",
   "execution_count": 51,
   "metadata": {},
   "outputs": [],
   "source": [
    "\n",
    "\n",
    "other_car_colour = tr_train['Subject_Car_Colour'].value_counts()[11:].index\n",
    "def categorise_car_colour(val):\n",
    "    if val in other_car_colour:\n",
    "        return 'Other'\n",
    "    else:\n",
    "        return val\n",
    "data['Subject_Car_Colour'] = data.Subject_Car_Colour.apply(categorise_car_colour)\n",
    "\n",
    "#tr_train['Subject_Car_Colour'] = tr_train.Subject_Car_Colour.apply(categorise_car_colour)\n",
    "#tr_test['Subject_Car_Colour'] = tr_test.Subject_Car_Colour.apply(categorise_car_colour)"
   ]
  },
  {
   "cell_type": "code",
   "execution_count": 52,
   "metadata": {},
   "outputs": [],
   "source": [
    "other_car_make = data['Subject_Car_Make'].value_counts()[12:].index\n",
    "def categorise_car_make(val):\n",
    "    if val in other_car_make:\n",
    "        return 'Other'\n",
    "    else:\n",
    "        return val\n",
    "    \n",
    "data['Subject_Car_Make'] = data.Subject_Car_Make.apply(categorise_car_make)\n",
    "#tr_train['Subject_Car_Make'] = tr_train.Subject_Car_Make.apply(categorise_car_make)\n",
    "#tr_test['Subject_Car_Make'] = tr_test.Subject_Car_Make.apply(categorise_car_make)"
   ]
  },
  {
   "cell_type": "code",
   "execution_count": 53,
   "metadata": {},
   "outputs": [],
   "source": [
    "def gender(val):\n",
    "    if val not in ['Male','Female']:\n",
    "        return 'Other'\n",
    "    else:\n",
    "        return val\n",
    "data['Gender'] = data.Gender.apply(gender)\n",
    "#tr_train['Gender'] = tr_train.Gender.apply(gender)\n",
    "#tr_test['Gender'] = tr_test.Gender.apply(gender)"
   ]
  },
  {
   "cell_type": "code",
   "execution_count": 54,
   "metadata": {},
   "outputs": [],
   "source": [
    "other_category = list(data['Car_Category'].value_counts()[3:].index)\n",
    "def categorise_car(val):\n",
    "    if val in other_category:\n",
    "        return 'Other'\n",
    "    else:\n",
    "        return val\n",
    "data['Car_Category'] = data.Car_Category.apply(categorise_car)"
   ]
  },
  {
   "cell_type": "code",
   "execution_count": 55,
   "metadata": {},
   "outputs": [],
   "source": [
    "\n",
    "from sklearn.preprocessing import LabelEncoder\n",
    "encode_lg = LabelEncoder()\n",
    "encode_st = LabelEncoder()\n",
    "\n",
    "data['LGA_Code'] = encode_lg.fit_transform(data['LGA_Name'])\n",
    "data['State_Code'] = encode_st.fit_transform(data['State'])\n",
    "\n"
   ]
  },
  {
   "cell_type": "code",
   "execution_count": 56,
   "metadata": {},
   "outputs": [],
   "source": [
    "data.loc[data['State_Code'] == 82, 'State_Code'] = -1\n",
    "data.loc[data['LGA_Code'] == 183, 'LGA_Code'] = -1"
   ]
  },
  {
   "cell_type": "code",
   "execution_count": 57,
   "metadata": {},
   "outputs": [
    {
     "name": "stdout",
     "output_type": "stream",
     "text": [
      "['ProductName', 'Gender', 'Car_Category', 'Subject_Car_Make', 'Subject_Car_Colour', 'Policy Start Date_day', 'Policy End Date_day']\n"
     ]
    }
   ],
   "source": [
    "one_hot_cols = ['ProductName','Gender','Car_Category','Subject_Car_Make','Subject_Car_Colour','Policy Start Date_day',\n",
    "                'Policy End Date_day']\n",
    "\n",
    "\n",
    "print(one_hot_cols)"
   ]
  },
  {
   "cell_type": "code",
   "execution_count": 58,
   "metadata": {},
   "outputs": [],
   "source": [
    "dummied_data = pd.get_dummies(data.drop(['State','LGA_Name'],axis=1), \n",
    "                               columns= one_hot_cols, \n",
    "                               drop_first=True)"
   ]
  },
  {
   "cell_type": "code",
   "execution_count": 59,
   "metadata": {},
   "outputs": [],
   "source": [
    "#Get the new dataset\n",
    "df_train = dummied_data[:ntrain]\n",
    "df_test = dummied_data[ntrain:]"
   ]
  },
  {
   "cell_type": "code",
   "execution_count": 60,
   "metadata": {},
   "outputs": [
    {
     "data": {
      "text/html": [
       "<div>\n",
       "<style scoped>\n",
       "    .dataframe tbody tr th:only-of-type {\n",
       "        vertical-align: middle;\n",
       "    }\n",
       "\n",
       "    .dataframe tbody tr th {\n",
       "        vertical-align: top;\n",
       "    }\n",
       "\n",
       "    .dataframe thead th {\n",
       "        text-align: right;\n",
       "    }\n",
       "</style>\n",
       "<table border=\"1\" class=\"dataframe\">\n",
       "  <thead>\n",
       "    <tr style=\"text-align: right;\">\n",
       "      <th></th>\n",
       "      <th>Age</th>\n",
       "      <th>No_Pol</th>\n",
       "      <th>Policy Start Date_year</th>\n",
       "      <th>Policy Start Date_date</th>\n",
       "      <th>Policy Start Date_month</th>\n",
       "      <th>Policy Start Date_quarter</th>\n",
       "      <th>Policy End Date_year</th>\n",
       "      <th>Policy End Date_date</th>\n",
       "      <th>Policy End Date_month</th>\n",
       "      <th>Policy End Date_quarter</th>\n",
       "      <th>...</th>\n",
       "      <th>Policy Start Date_day_Sunday</th>\n",
       "      <th>Policy Start Date_day_Thursday</th>\n",
       "      <th>Policy Start Date_day_Tuesday</th>\n",
       "      <th>Policy Start Date_day_Wednesday</th>\n",
       "      <th>Policy End Date_day_Monday</th>\n",
       "      <th>Policy End Date_day_Saturday</th>\n",
       "      <th>Policy End Date_day_Sunday</th>\n",
       "      <th>Policy End Date_day_Thursday</th>\n",
       "      <th>Policy End Date_day_Tuesday</th>\n",
       "      <th>Policy End Date_day_Wednesday</th>\n",
       "    </tr>\n",
       "  </thead>\n",
       "  <tbody>\n",
       "    <tr>\n",
       "      <th>0</th>\n",
       "      <td>30</td>\n",
       "      <td>1</td>\n",
       "      <td>2010</td>\n",
       "      <td>14</td>\n",
       "      <td>5</td>\n",
       "      <td>2</td>\n",
       "      <td>2011</td>\n",
       "      <td>13</td>\n",
       "      <td>5</td>\n",
       "      <td>2</td>\n",
       "      <td>...</td>\n",
       "      <td>0</td>\n",
       "      <td>0</td>\n",
       "      <td>0</td>\n",
       "      <td>0</td>\n",
       "      <td>0</td>\n",
       "      <td>0</td>\n",
       "      <td>0</td>\n",
       "      <td>0</td>\n",
       "      <td>0</td>\n",
       "      <td>0</td>\n",
       "    </tr>\n",
       "    <tr>\n",
       "      <th>1</th>\n",
       "      <td>79</td>\n",
       "      <td>1</td>\n",
       "      <td>2010</td>\n",
       "      <td>29</td>\n",
       "      <td>11</td>\n",
       "      <td>4</td>\n",
       "      <td>2011</td>\n",
       "      <td>28</td>\n",
       "      <td>11</td>\n",
       "      <td>4</td>\n",
       "      <td>...</td>\n",
       "      <td>0</td>\n",
       "      <td>0</td>\n",
       "      <td>0</td>\n",
       "      <td>0</td>\n",
       "      <td>1</td>\n",
       "      <td>0</td>\n",
       "      <td>0</td>\n",
       "      <td>0</td>\n",
       "      <td>0</td>\n",
       "      <td>0</td>\n",
       "    </tr>\n",
       "    <tr>\n",
       "      <th>2</th>\n",
       "      <td>43</td>\n",
       "      <td>1</td>\n",
       "      <td>2010</td>\n",
       "      <td>21</td>\n",
       "      <td>3</td>\n",
       "      <td>1</td>\n",
       "      <td>2011</td>\n",
       "      <td>20</td>\n",
       "      <td>3</td>\n",
       "      <td>1</td>\n",
       "      <td>...</td>\n",
       "      <td>1</td>\n",
       "      <td>0</td>\n",
       "      <td>0</td>\n",
       "      <td>0</td>\n",
       "      <td>0</td>\n",
       "      <td>0</td>\n",
       "      <td>1</td>\n",
       "      <td>0</td>\n",
       "      <td>0</td>\n",
       "      <td>0</td>\n",
       "    </tr>\n",
       "    <tr>\n",
       "      <th>3</th>\n",
       "      <td>2</td>\n",
       "      <td>1</td>\n",
       "      <td>2010</td>\n",
       "      <td>21</td>\n",
       "      <td>8</td>\n",
       "      <td>3</td>\n",
       "      <td>2011</td>\n",
       "      <td>20</td>\n",
       "      <td>8</td>\n",
       "      <td>3</td>\n",
       "      <td>...</td>\n",
       "      <td>0</td>\n",
       "      <td>0</td>\n",
       "      <td>0</td>\n",
       "      <td>0</td>\n",
       "      <td>0</td>\n",
       "      <td>1</td>\n",
       "      <td>0</td>\n",
       "      <td>0</td>\n",
       "      <td>0</td>\n",
       "      <td>0</td>\n",
       "    </tr>\n",
       "    <tr>\n",
       "      <th>4</th>\n",
       "      <td>20</td>\n",
       "      <td>3</td>\n",
       "      <td>2010</td>\n",
       "      <td>29</td>\n",
       "      <td>8</td>\n",
       "      <td>3</td>\n",
       "      <td>2010</td>\n",
       "      <td>31</td>\n",
       "      <td>12</td>\n",
       "      <td>4</td>\n",
       "      <td>...</td>\n",
       "      <td>1</td>\n",
       "      <td>0</td>\n",
       "      <td>0</td>\n",
       "      <td>0</td>\n",
       "      <td>0</td>\n",
       "      <td>0</td>\n",
       "      <td>0</td>\n",
       "      <td>0</td>\n",
       "      <td>0</td>\n",
       "      <td>0</td>\n",
       "    </tr>\n",
       "    <tr>\n",
       "      <th>...</th>\n",
       "      <td>...</td>\n",
       "      <td>...</td>\n",
       "      <td>...</td>\n",
       "      <td>...</td>\n",
       "      <td>...</td>\n",
       "      <td>...</td>\n",
       "      <td>...</td>\n",
       "      <td>...</td>\n",
       "      <td>...</td>\n",
       "      <td>...</td>\n",
       "      <td>...</td>\n",
       "      <td>...</td>\n",
       "      <td>...</td>\n",
       "      <td>...</td>\n",
       "      <td>...</td>\n",
       "      <td>...</td>\n",
       "      <td>...</td>\n",
       "      <td>...</td>\n",
       "      <td>...</td>\n",
       "      <td>...</td>\n",
       "      <td>...</td>\n",
       "    </tr>\n",
       "    <tr>\n",
       "      <th>12074</th>\n",
       "      <td>30</td>\n",
       "      <td>1</td>\n",
       "      <td>2010</td>\n",
       "      <td>25</td>\n",
       "      <td>5</td>\n",
       "      <td>2</td>\n",
       "      <td>2011</td>\n",
       "      <td>24</td>\n",
       "      <td>5</td>\n",
       "      <td>2</td>\n",
       "      <td>...</td>\n",
       "      <td>0</td>\n",
       "      <td>0</td>\n",
       "      <td>1</td>\n",
       "      <td>0</td>\n",
       "      <td>0</td>\n",
       "      <td>0</td>\n",
       "      <td>0</td>\n",
       "      <td>0</td>\n",
       "      <td>1</td>\n",
       "      <td>0</td>\n",
       "    </tr>\n",
       "    <tr>\n",
       "      <th>12075</th>\n",
       "      <td>59</td>\n",
       "      <td>1</td>\n",
       "      <td>2010</td>\n",
       "      <td>3</td>\n",
       "      <td>10</td>\n",
       "      <td>4</td>\n",
       "      <td>2011</td>\n",
       "      <td>2</td>\n",
       "      <td>10</td>\n",
       "      <td>4</td>\n",
       "      <td>...</td>\n",
       "      <td>1</td>\n",
       "      <td>0</td>\n",
       "      <td>0</td>\n",
       "      <td>0</td>\n",
       "      <td>0</td>\n",
       "      <td>0</td>\n",
       "      <td>1</td>\n",
       "      <td>0</td>\n",
       "      <td>0</td>\n",
       "      <td>0</td>\n",
       "    </tr>\n",
       "    <tr>\n",
       "      <th>12076</th>\n",
       "      <td>34</td>\n",
       "      <td>1</td>\n",
       "      <td>2010</td>\n",
       "      <td>10</td>\n",
       "      <td>10</td>\n",
       "      <td>4</td>\n",
       "      <td>2011</td>\n",
       "      <td>8</td>\n",
       "      <td>10</td>\n",
       "      <td>4</td>\n",
       "      <td>...</td>\n",
       "      <td>1</td>\n",
       "      <td>0</td>\n",
       "      <td>0</td>\n",
       "      <td>0</td>\n",
       "      <td>0</td>\n",
       "      <td>1</td>\n",
       "      <td>0</td>\n",
       "      <td>0</td>\n",
       "      <td>0</td>\n",
       "      <td>0</td>\n",
       "    </tr>\n",
       "    <tr>\n",
       "      <th>12077</th>\n",
       "      <td>120</td>\n",
       "      <td>2</td>\n",
       "      <td>2010</td>\n",
       "      <td>27</td>\n",
       "      <td>2</td>\n",
       "      <td>1</td>\n",
       "      <td>2011</td>\n",
       "      <td>26</td>\n",
       "      <td>2</td>\n",
       "      <td>1</td>\n",
       "      <td>...</td>\n",
       "      <td>0</td>\n",
       "      <td>0</td>\n",
       "      <td>0</td>\n",
       "      <td>0</td>\n",
       "      <td>0</td>\n",
       "      <td>1</td>\n",
       "      <td>0</td>\n",
       "      <td>0</td>\n",
       "      <td>0</td>\n",
       "      <td>0</td>\n",
       "    </tr>\n",
       "    <tr>\n",
       "      <th>12078</th>\n",
       "      <td>46</td>\n",
       "      <td>2</td>\n",
       "      <td>2010</td>\n",
       "      <td>1</td>\n",
       "      <td>7</td>\n",
       "      <td>3</td>\n",
       "      <td>2011</td>\n",
       "      <td>30</td>\n",
       "      <td>6</td>\n",
       "      <td>2</td>\n",
       "      <td>...</td>\n",
       "      <td>0</td>\n",
       "      <td>1</td>\n",
       "      <td>0</td>\n",
       "      <td>0</td>\n",
       "      <td>0</td>\n",
       "      <td>0</td>\n",
       "      <td>0</td>\n",
       "      <td>1</td>\n",
       "      <td>0</td>\n",
       "      <td>0</td>\n",
       "    </tr>\n",
       "  </tbody>\n",
       "</table>\n",
       "<p>12079 rows × 62 columns</p>\n",
       "</div>"
      ],
      "text/plain": [
       "       Age  No_Pol  Policy Start Date_year  Policy Start Date_date  \\\n",
       "0       30       1                    2010                      14   \n",
       "1       79       1                    2010                      29   \n",
       "2       43       1                    2010                      21   \n",
       "3        2       1                    2010                      21   \n",
       "4       20       3                    2010                      29   \n",
       "...    ...     ...                     ...                     ...   \n",
       "12074   30       1                    2010                      25   \n",
       "12075   59       1                    2010                       3   \n",
       "12076   34       1                    2010                      10   \n",
       "12077  120       2                    2010                      27   \n",
       "12078   46       2                    2010                       1   \n",
       "\n",
       "       Policy Start Date_month  Policy Start Date_quarter  \\\n",
       "0                            5                          2   \n",
       "1                           11                          4   \n",
       "2                            3                          1   \n",
       "3                            8                          3   \n",
       "4                            8                          3   \n",
       "...                        ...                        ...   \n",
       "12074                        5                          2   \n",
       "12075                       10                          4   \n",
       "12076                       10                          4   \n",
       "12077                        2                          1   \n",
       "12078                        7                          3   \n",
       "\n",
       "       Policy End Date_year  Policy End Date_date  Policy End Date_month  \\\n",
       "0                      2011                    13                      5   \n",
       "1                      2011                    28                     11   \n",
       "2                      2011                    20                      3   \n",
       "3                      2011                    20                      8   \n",
       "4                      2010                    31                     12   \n",
       "...                     ...                   ...                    ...   \n",
       "12074                  2011                    24                      5   \n",
       "12075                  2011                     2                     10   \n",
       "12076                  2011                     8                     10   \n",
       "12077                  2011                    26                      2   \n",
       "12078                  2011                    30                      6   \n",
       "\n",
       "       Policy End Date_quarter  ...  Policy Start Date_day_Sunday  \\\n",
       "0                            2  ...                             0   \n",
       "1                            4  ...                             0   \n",
       "2                            1  ...                             1   \n",
       "3                            3  ...                             0   \n",
       "4                            4  ...                             1   \n",
       "...                        ...  ...                           ...   \n",
       "12074                        2  ...                             0   \n",
       "12075                        4  ...                             1   \n",
       "12076                        4  ...                             1   \n",
       "12077                        1  ...                             0   \n",
       "12078                        2  ...                             0   \n",
       "\n",
       "       Policy Start Date_day_Thursday  Policy Start Date_day_Tuesday  \\\n",
       "0                                   0                              0   \n",
       "1                                   0                              0   \n",
       "2                                   0                              0   \n",
       "3                                   0                              0   \n",
       "4                                   0                              0   \n",
       "...                               ...                            ...   \n",
       "12074                               0                              1   \n",
       "12075                               0                              0   \n",
       "12076                               0                              0   \n",
       "12077                               0                              0   \n",
       "12078                               1                              0   \n",
       "\n",
       "       Policy Start Date_day_Wednesday  Policy End Date_day_Monday  \\\n",
       "0                                    0                           0   \n",
       "1                                    0                           1   \n",
       "2                                    0                           0   \n",
       "3                                    0                           0   \n",
       "4                                    0                           0   \n",
       "...                                ...                         ...   \n",
       "12074                                0                           0   \n",
       "12075                                0                           0   \n",
       "12076                                0                           0   \n",
       "12077                                0                           0   \n",
       "12078                                0                           0   \n",
       "\n",
       "       Policy End Date_day_Saturday  Policy End Date_day_Sunday  \\\n",
       "0                                 0                           0   \n",
       "1                                 0                           0   \n",
       "2                                 0                           1   \n",
       "3                                 1                           0   \n",
       "4                                 0                           0   \n",
       "...                             ...                         ...   \n",
       "12074                             0                           0   \n",
       "12075                             0                           1   \n",
       "12076                             1                           0   \n",
       "12077                             1                           0   \n",
       "12078                             0                           0   \n",
       "\n",
       "       Policy End Date_day_Thursday  Policy End Date_day_Tuesday  \\\n",
       "0                                 0                            0   \n",
       "1                                 0                            0   \n",
       "2                                 0                            0   \n",
       "3                                 0                            0   \n",
       "4                                 0                            0   \n",
       "...                             ...                          ...   \n",
       "12074                             0                            1   \n",
       "12075                             0                            0   \n",
       "12076                             0                            0   \n",
       "12077                             0                            0   \n",
       "12078                             1                            0   \n",
       "\n",
       "       Policy End Date_day_Wednesday  \n",
       "0                                  0  \n",
       "1                                  0  \n",
       "2                                  0  \n",
       "3                                  0  \n",
       "4                                  0  \n",
       "...                              ...  \n",
       "12074                              0  \n",
       "12075                              0  \n",
       "12076                              0  \n",
       "12077                              0  \n",
       "12078                              0  \n",
       "\n",
       "[12079 rows x 62 columns]"
      ]
     },
     "execution_count": 60,
     "metadata": {},
     "output_type": "execute_result"
    }
   ],
   "source": [
    "df_train"
   ]
  },
  {
   "cell_type": "code",
   "execution_count": 61,
   "metadata": {},
   "outputs": [],
   "source": [
    "X_train, X_test,y_train, y_test = train_test_split(df_train,Train['target'],\n",
    "                                                   test_size=0.2, stratify=Train['target'], random_state=42)"
   ]
  },
  {
   "cell_type": "code",
   "execution_count": 84,
   "metadata": {},
   "outputs": [],
   "source": [
    "from sklearn.utils import resample\n",
    "class Oversample:\n",
    "    \n",
    "    def __init__(self,minor,target_col, resample_len=None ):\n",
    "        '''Returns a dataframe and target column (Series) with the minority class being oversampled '''\n",
    "        self.hold = 0\n",
    "        self.minor = minor\n",
    "        self.reclaim = 0\n",
    "        self.sample_len = resample_len\n",
    "        self.target_col = target_col\n",
    "        \n",
    "    def fit_transform(self, X, y=None):\n",
    "        \n",
    "        self.hold = X.copy()\n",
    "        self.hold[self.target_col] = y.values\n",
    "        self.reclaim = self.hold[self.hold[self.target_col] == self.minor]\n",
    "        major_df = self.hold[self.hold[self.target_col] != self.minor]\n",
    "        \n",
    "        if self.sample_len == None:\n",
    "            self.sample_len = len(major_df)\n",
    "            \n",
    "        resampled = resample(self.reclaim, n_samples=self.sample_len, replace=True, random_state=42)\n",
    "        df = pd.concat([major_df,resampled])\n",
    "        \n",
    "        return df.drop(self.target_col, axis= 1), df.target\n",
    "        \n",
    "        "
   ]
  },
  {
   "cell_type": "code",
   "execution_count": 81,
   "metadata": {},
   "outputs": [],
   "source": [
    "def get_mode(arr_preds):\n",
    "    from scipy import stats\n",
    "    res = stats.mode(arr_preds)[0].reshape(-1,)\n",
    "    return res\n",
    "\n",
    "\n",
    "def Train_Evaluate(models,train_data,target, val_metric=f1_score, test_data=None,params=None):\n",
    "    \n",
    "    train_score_sheet = {}\n",
    "    val_score_sheet = {}\n",
    "    named_models = {}\n",
    "    names = []\n",
    "    preds_val = {}\n",
    "    predictions = {}\n",
    "    idx = 0\n",
    "    \n",
    "        \n",
    "    for name, model in models.items():\n",
    "        named_models[name] = model\n",
    "        \n",
    "        if params != None:\n",
    "            if name in params.keys():\n",
    "                pass\n",
    "        \n",
    "        print('====={}===============Training: {}=========================='.format(idx+1,name))\n",
    "        if type(model) == type(lightgbm.LGBMClassifier()):\n",
    "            predictions[name], preds_val[name],train_score_sheet[name], val_score_sheet[name], named = LGBMTrain(model,train_data,target,test_data,name)\n",
    "            names.append(named)\n",
    "        \n",
    "        elif type(model) == type(xgb.XGBClassifier()):\n",
    "            predictions[name],preds_val[name],train_score_sheet[name], val_score_sheet[name], named = XGBTrain(model,train_data,target, test_data, name)\n",
    "        \n",
    "        elif type(model) == type(catboost.CatBoostClassifier()):\n",
    "            \n",
    "            predictions[name],preds_val[name],train_score_sheet[name], val_score_sheet[name], named  = CatBoostTrain(model,train_data,target,test_data, name)\n",
    "            \n",
    "        else:\n",
    "            \n",
    "            mean_train_scores = []\n",
    "            mean_val_scores = []\n",
    "            val_pred = np.zeros(train_data.shape[0])\n",
    "            test_pred = np.zeros((skf.n_splits,test_data.shape[0]))\n",
    "            impute = SimpleImputer(fill_value=99999)\n",
    "            train_set = pd.DataFrame(impute.fit_transform(train_data), columns=train_data.columns)\n",
    "            test_set =  pd.DataFrame(impute.transform(test_data), columns=test_data.columns)\n",
    "            \n",
    "            for index, (train_index, val_index) in enumerate(skf.split(train_set,target)):\n",
    "\n",
    "                print('\\n==========================>**Fold {}**<================================\\n\\n'.format(index+1))\n",
    "                temp_x_train , x_test = train_set.iloc[train_index], train_set.iloc[val_index]\n",
    "                temp_y_train, y_test = target.iloc[train_index], target.iloc[val_index]\n",
    "                \n",
    "                # oversampling train set\n",
    "                x_train, y_train = Oversample(1,target_col='target').fit_transform(temp_x_train,temp_y_train)\n",
    "\n",
    "                model.fit(x_train,y_train)\n",
    "\n",
    "                train_predict = model.predict(x_train)\n",
    "                preds = model.predict(x_test)\n",
    "                val_pred[val_index] = preds\n",
    "                test_pred[index] = model.predict(test_set)\n",
    "\n",
    "                mean_train_scores.append(f1_score(y_train,train_predict))\n",
    "                mean_val_scores.append(f1_score(y_test,preds))\n",
    "                print('\\nValidation Score :::> ', val_metric(y_test,preds))\n",
    "                print('\\nTraining Score   :::> ', val_metric(y_train, train_predict))\n",
    "            test_predictions = get_mode(test_pred)\n",
    "            predictions[name] = test_predictions\n",
    "            preds_val[name] = val_pred[:]\n",
    "            train_score_sheet[name] = np.mean(mean_train_scores)\n",
    "            val_score_sheet[name] = np.mean(mean_val_scores)\n",
    "            print('\\nAverage Training Score   ::>', np.mean(mean_train_scores))\n",
    "            print('\\nAverage Validation Score ::>', np.mean(mean_val_scores))            \n",
    "            \n",
    "                      \n",
    "        idx+=1\n",
    "            \n",
    "    return train_score_sheet, val_score_sheet, named_models,preds_val, predictions"
   ]
  },
  {
   "cell_type": "code",
   "execution_count": 82,
   "metadata": {},
   "outputs": [],
   "source": [
    "lgbm = lightgbm.LGBMClassifier()\n",
    "\n",
    "#X_train, X_test, y_train, y_test = train_test_split(Train, TRAIN['default_status'], stratify= TRAIN['default_status'], \n",
    "#                    random_state=55)\n",
    "\n",
    "\n",
    "def LGBMTrain(model,train_data,target,test_data, name):\n",
    "    mean_train_scores = []\n",
    "    mean_val_scores = []\n",
    "    val_pred = np.zeros(train_data.shape[0])\n",
    "    test_pred = np.zeros((skf.n_splits,test_data.shape[0]))\n",
    "    for index, (train_index, val_index) in enumerate(skf.split(train_data,target)):\n",
    "\n",
    "        print('\\n==========================>**Fold {}**<================================\\n\\n'.format(index+1))\n",
    "        temp_x_train , x_test = train_data.iloc[train_index], train_data.iloc[val_index]\n",
    "        temp_y_train, y_test = target.iloc[train_index], target.iloc[val_index]\n",
    "        \n",
    "        # oversampling train_set\n",
    "        x_train, y_train = Oversample(1,'target').fit_transform(temp_x_train,temp_y_train)\n",
    "        \n",
    "        model.fit(x_train,y_train, eval_set=(x_test,y_test), eval_metric = 'error', verbose= 50)\n",
    "\n",
    "        train_predict = model.predict(x_train, num_iterations=model.best_iteration_)\n",
    "        lgb_preds = model.predict(x_test, num_iterations = model.best_iteration_)\n",
    "        val_pred[val_index] = lgb_preds\n",
    "        test_pred [index] = model.predict(test_data, num_iterations = model.best_iteration_)\n",
    "\n",
    "        mean_train_scores.append(f1_score(y_train,train_predict))\n",
    "        mean_val_scores.append(f1_score(y_test,lgb_preds))\n",
    "        print('\\nValidation Score :::> ', f1_score(y_test,lgb_preds))\n",
    "        print('\\nTraining Score   :::> ', f1_score(y_train, train_predict))\n",
    "\n",
    "\n",
    "    print('\\nAverage Training Score   ::>', np.mean(mean_train_scores))\n",
    "    print('\\nAverage Validation Score ::>', np.mean(mean_val_scores))\n",
    "    test_predictions = get_mode(test_pred)\n",
    "    \n",
    "    return test_predictions,val_pred, np.mean(mean_train_scores), np.mean(mean_val_scores), name\n",
    "\n",
    "\n",
    "\n",
    "def XGBTrain(model,train_data,target,test_data, name):\n",
    "    mean_train_scores = []\n",
    "    mean_val_scores = []\n",
    "    val_pred = np.zeros(train_data.shape[0])\n",
    "    test_pred = np.zeros((skf.n_splits,test_data.shape[0]))\n",
    "    \n",
    "    for index, (train_index, val_index) in enumerate(skf.split(train_data,target)):\n",
    "\n",
    "        print('\\n==========================>**Fold {}**<================================\\n\\n'.format(index+1))\n",
    "        temp_x_train , x_test = train_data.iloc[train_index], train_data.iloc[val_index]\n",
    "        temp_y_train, y_test = target.iloc[train_index], target.iloc[val_index]\n",
    "        \n",
    "        # oversampling train_set\n",
    "        x_train, y_train = Oversample(1,'target').fit_transform(temp_x_train,temp_y_train)\n",
    "\n",
    "        model.fit(x_train,y_train, eval_set=[(x_test,y_test)], eval_metric = 'error', verbose= 50, early_stopping_rounds=200)\n",
    "\n",
    "        train_predict = model.predict(x_train, ntree_limit = model.get_booster().best_ntree_limit)\n",
    "        xgb_preds = model.predict(x_test, ntree_limit = model.get_booster().best_ntree_limit)\n",
    "        val_pred[val_index] = xgb_preds\n",
    "        test_pred [index] = model.predict(test_data, ntree_limit = model.get_booster().best_ntree_limit)\n",
    "\n",
    "        mean_train_scores.append(f1_score(y_train,train_predict))\n",
    "        mean_val_scores.append(f1_score(y_test,xgb_preds))\n",
    "        print('\\nValidation Score :::> ', f1_score(y_test,xgb_preds))\n",
    "        print('\\nTraining Score   :::> ', f1_score(y_train, train_predict))\n",
    "\n",
    "\n",
    "    print('\\nAverage Training Score   ::>', np.mean(mean_train_scores))\n",
    "    print('\\nAverage Validation Score ::>', np.mean(mean_val_scores))\n",
    "    test_predictions = get_mode(test_pred)\n",
    "    \n",
    "    return test_predictions,val_pred, np.mean(mean_train_scores), np.mean(mean_val_scores), name\n",
    "\n",
    "\n",
    "def CatBoostTrain(model,train_data,target,test_data, name):\n",
    "    mean_train_scores = []\n",
    "    mean_val_scores = []\n",
    "    val_pred = np.zeros(train_data.shape[0])\n",
    "    test_pred = np.zeros((skf.n_splits,test_data.shape[0]))\n",
    "    for index, (train_index, val_index) in enumerate(skf.split(train_data,target)):\n",
    "\n",
    "        print('\\n==========================>**Fold {}**<================================\\n\\n'.format(index+1))\n",
    "        print('Now using catboos')\n",
    "        temp_x_train , x_test = train_data.iloc[train_index], train_data.iloc[val_index]\n",
    "        temp_y_train, y_test = target.iloc[train_index], target.iloc[val_index]\n",
    "        \n",
    "        # oversampling train_set\n",
    "        x_train, y_train = Oversample(1,'target').fit_transform(temp_x_train,temp_y_train)\n",
    "        \n",
    "        model.fit(x_train,y_train, eval_set=(x_test,y_test), verbose= 50)\n",
    "\n",
    "        train_predict = model.predict_proba(x_train)[:,1]\n",
    "        cat_preds = model.predict_proba(x_test)[:,1]\n",
    "        val_pred[val_index] = cat_preds\n",
    "        test_pred += model.predict_proba(test_data)[:,1]\n",
    "\n",
    "        mean_train_scores.append(roc_auc_score(y_train,train_predict))\n",
    "        mean_val_scores.append(roc_auc_score(y_test,cat_preds))\n",
    "        print('\\nValidation Score :::> ', roc_auc_score(y_test,cat_preds))\n",
    "        print('\\nTraining Score   :::> ', roc_auc_score(y_train, train_predict))\n",
    "\n",
    "\n",
    "    print('\\nAverage Training Score   ::>', np.mean(mean_train_scores))\n",
    "    print('\\nAverage Validation Score ::>', np.mean(mean_val_scores))\n",
    "    \n",
    "    \n",
    "    return test_pred,val_pred, np.mean(mean_train_scores), np.mean(mean_val_scores), name\n"
   ]
  },
  {
   "cell_type": "code",
   "execution_count": 64,
   "metadata": {},
   "outputs": [
    {
     "data": {
      "text/plain": [
       "0    0.879541\n",
       "1    0.120459\n",
       "Name: target, dtype: float64"
      ]
     },
     "execution_count": 64,
     "metadata": {},
     "output_type": "execute_result"
    }
   ],
   "source": [
    "y_train.value_counts(normalize=True)"
   ]
  },
  {
   "cell_type": "code",
   "execution_count": 65,
   "metadata": {},
   "outputs": [
    {
     "data": {
      "text/plain": [
       "<matplotlib.axes._subplots.AxesSubplot at 0x1e1ca91b8c8>"
      ]
     },
     "execution_count": 65,
     "metadata": {},
     "output_type": "execute_result"
    },
    {
     "data": {
      "image/png": "[encoded data removed]",
      "text/plain": [
       "<Figure size 432x288 with 1 Axes>"
      ]
     },
     "metadata": {
      "needs_background": "light"
     },
     "output_type": "display_data"
    }
   ],
   "source": [
    "sns.countplot(y_train)"
   ]
  },
  {
   "cell_type": "code",
   "execution_count": 85,
   "metadata": {},
   "outputs": [],
   "source": [
    "#oversample = Oversample(minor = 1, target_col='target')\n",
    "train, Target = df_train, Train['target']\n",
    "test = df_test.copy()"
   ]
  },
  {
   "cell_type": "code",
   "execution_count": 86,
   "metadata": {},
   "outputs": [
    {
     "data": {
      "text/plain": [
       "((12079, 14), (12079,))"
      ]
     },
     "execution_count": 86,
     "metadata": {},
     "output_type": "execute_result"
    }
   ],
   "source": [
    "Train.shape, Target.shape"
   ]
  },
  {
   "cell_type": "code",
   "execution_count": 87,
   "metadata": {},
   "outputs": [
    {
     "data": {
      "text/plain": [
       "((12079, 62), (12079,))"
      ]
     },
     "execution_count": 87,
     "metadata": {},
     "output_type": "execute_result"
    }
   ],
   "source": [
    "train.shape, Target.shape"
   ]
  },
  {
   "cell_type": "code",
   "execution_count": 88,
   "metadata": {},
   "outputs": [
    {
     "data": {
      "text/plain": [
       "<matplotlib.axes._subplots.AxesSubplot at 0x1e1cd2cea88>"
      ]
     },
     "execution_count": 88,
     "metadata": {},
     "output_type": "execute_result"
    },
    {
     "data": {
      "image/png": "[encoded data removed]",
      "text/plain": [
       "<Figure size 432x288 with 1 Axes>"
      ]
     },
     "metadata": {
      "needs_background": "light"
     },
     "output_type": "display_data"
    }
   ],
   "source": [
    "sns.countplot(Target)"
   ]
  },
  {
   "cell_type": "code",
   "execution_count": 89,
   "metadata": {},
   "outputs": [
    {
     "data": {
      "text/plain": [
       "{True}"
      ]
     },
     "execution_count": 89,
     "metadata": {},
     "output_type": "execute_result"
    }
   ],
   "source": [
    "set(train.columns == df_train.columns)"
   ]
  },
  {
   "cell_type": "code",
   "execution_count": 90,
   "metadata": {},
   "outputs": [
    {
     "data": {
      "text/plain": [
       "((12079, 62), (1202, 62))"
      ]
     },
     "execution_count": 90,
     "metadata": {},
     "output_type": "execute_result"
    }
   ],
   "source": [
    "train.shape,test.shape"
   ]
  },
  {
   "cell_type": "code",
   "execution_count": 91,
   "metadata": {},
   "outputs": [
    {
     "data": {
      "text/plain": [
       "{True}"
      ]
     },
     "execution_count": 91,
     "metadata": {},
     "output_type": "execute_result"
    }
   ],
   "source": [
    "set(train.columns == test.columns)"
   ]
  },
  {
   "cell_type": "code",
   "execution_count": 92,
   "metadata": {},
   "outputs": [],
   "source": [
    "from sklearn.linear_model import LogisticRegression\n",
    "from sklearn.neighbors import KNeighborsClassifier\n",
    "from sklearn.tree import DecisionTreeClassifier\n",
    "from sklearn.svm import SVC\n"
   ]
  },
  {
   "cell_type": "code",
   "execution_count": 93,
   "metadata": {},
   "outputs": [],
   "source": [
    "from sklearn.model_selection import KFold\n",
    "\n",
    "skf = KFold(n_splits=10, shuffle=True, random_state=45)"
   ]
  },
  {
   "cell_type": "code",
   "execution_count": 94,
   "metadata": {},
   "outputs": [],
   "source": [
    "from sklearn.ensemble import BaggingClassifier, StackingClassifier"
   ]
  },
  {
   "cell_type": "code",
   "execution_count": 95,
   "metadata": {},
   "outputs": [],
   "source": [
    "stack = StackingClassifier([('RFC',RandomForestClassifier(random_state=43, n_estimators=200)),\n",
    "                            ('EXT',ExtraTreesClassifier(random_state=45, n_estimators=300))])"
   ]
  },
  {
   "cell_type": "code",
   "execution_count": 97,
   "metadata": {},
   "outputs": [
    {
     "name": "stdout",
     "output_type": "stream",
     "text": [
      "=====1===============Training: RandomForest==========================\n",
      "\n",
      "==========================>**Fold 1**<================================\n",
      "\n",
      "\n",
      "\n",
      "Validation Score :::>  0.3440860215053763\n",
      "\n",
      "Training Score   :::>  0.9731376631290306\n",
      "\n",
      "==========================>**Fold 2**<================================\n",
      "\n",
      "\n",
      "\n",
      "Validation Score :::>  0.27450980392156865\n",
      "\n",
      "Training Score   :::>  0.9731300667924335\n",
      "\n",
      "==========================>**Fold 3**<================================\n",
      "\n",
      "\n",
      "\n",
      "Validation Score :::>  0.28363636363636363\n",
      "\n",
      "Training Score   :::>  0.974080097580809\n",
      "\n",
      "==========================>**Fold 4**<================================\n",
      "\n",
      "\n",
      "\n",
      "Validation Score :::>  0.2773722627737226\n",
      "\n",
      "Training Score   :::>  0.9739599226935205\n",
      "\n",
      "==========================>**Fold 5**<================================\n",
      "\n",
      "\n",
      "\n",
      "Validation Score :::>  0.2689075630252101\n",
      "\n",
      "Training Score   :::>  0.9729316409236887\n",
      "\n",
      "==========================>**Fold 6**<================================\n",
      "\n",
      "\n",
      "\n",
      "Validation Score :::>  0.3041825095057034\n",
      "\n",
      "Training Score   :::>  0.9727943046020849\n",
      "\n",
      "==========================>**Fold 7**<================================\n",
      "\n",
      "\n",
      "\n",
      "Validation Score :::>  0.3\n",
      "\n",
      "Training Score   :::>  0.9730831973898858\n",
      "\n",
      "==========================>**Fold 8**<================================\n",
      "\n",
      "\n",
      "\n",
      "Validation Score :::>  0.3052208835341366\n",
      "\n",
      "Training Score   :::>  0.9725629931280224\n",
      "\n",
      "==========================>**Fold 9**<================================\n",
      "\n",
      "\n",
      "\n",
      "Validation Score :::>  0.259927797833935\n",
      "\n",
      "Training Score   :::>  0.9744451231928324\n",
      "\n",
      "==========================>**Fold 10**<================================\n",
      "\n",
      "\n",
      "\n",
      "Validation Score :::>  0.3037974683544304\n",
      "\n",
      "Training Score   :::>  0.9727967396841569\n",
      "\n",
      "Average Training Score   ::> 0.9732921749116464\n",
      "\n",
      "Average Validation Score ::> 0.29216406740904466\n"
     ]
    }
   ],
   "source": [
    "models = {'EXT':ExtraTreesClassifier(random_state=45, n_estimators=300),\n",
    "          'KNN': KNeighborsClassifier(3),\n",
    "          'tree': DecisionTreeClassifier(),\n",
    "          'GB':GradientBoostingClassifier(random_state=42),\n",
    "           'RandomForest': RandomForestClassifier(random_state=42, n_estimators=200),\n",
    "            'XGB': xgb.XGBClassifier(random_state=45, n_estimators=500),\n",
    "         'LGBM': lightgbm.LGBMClassifier(random_state=45, n_estimators=500),\n",
    "         }\n",
    "\n",
    "model = {'RandomForest': RandomForestClassifier(random_state=42, n_estimators=200)}\n",
    "train_scores, val_scores, named_models,preds_val, preds = Train_Evaluate(model,train, Target,\n",
    "                                                              test_data=test)"
   ]
  },
  {
   "cell_type": "code",
   "execution_count": 99,
   "metadata": {},
   "outputs": [
    {
     "data": {
      "text/plain": [
       "{'RandomForest': 0.29216406740904466}"
      ]
     },
     "execution_count": 99,
     "metadata": {},
     "output_type": "execute_result"
    }
   ],
   "source": [
    "val_scores"
   ]
  },
  {
   "cell_type": "code",
   "execution_count": 77,
   "metadata": {},
   "outputs": [
    {
     "data": {
      "text/plain": [
       "{'EXT': 0.9637787468753792}"
      ]
     },
     "execution_count": 77,
     "metadata": {},
     "output_type": "execute_result"
    }
   ],
   "source": [
    "val_scores"
   ]
  },
  {
   "cell_type": "code",
   "execution_count": 85,
   "metadata": {},
   "outputs": [],
   "source": [
    "def Stack(**kwargs):\n",
    "    stacked = {name : preds for name, preds in kwargs.items()}\n",
    "    df_stacked = pd.DataFrame(stacked)\n",
    "    \n",
    "    return df_stacked\n",
    "        \n",
    "    "
   ]
  },
  {
   "cell_type": "code",
   "execution_count": 86,
   "metadata": {},
   "outputs": [],
   "source": [
    "predictions = preds\n",
    "stacked_train = Stack(EXT = preds_val['EXT'], tree = preds_val['tree'],KNN =  preds_val['KNN'],\n",
    "                      RFC = preds_val['RandomForest'],XGB = preds_val['XGB'], LGBM=preds_val['LGBM'], STK =preds_val['STK'])\n",
    "\n",
    "stacked_test = Stack(EXT = predictions['EXT'], tree = predictions['tree'], KNN = predictions['KNN'],\n",
    "                        RFC = predictions['RandomForest'],XGB = predictions['XGB'], LGBM = predictions['LGBM'],\n",
    "                     STK = predictions['STK'])"
   ]
  },
  {
   "cell_type": "code",
   "execution_count": null,
   "metadata": {},
   "outputs": [],
   "source": [
    "predictions = preds\n",
    "stacked_train_1 = Stack(EXT = preds_val['EXT'], tree = preds_val['tree'],KNN =  preds_val['KNN'],\n",
    "                      RFC = preds_val['RandomForest'],XGB = preds_val['XGB'], LGBM=preds_val['LGBM'],\n",
    "                     LGBM_1 = preds_val['LGBM_1'],EXT_1 = preds_val['EXT_1'], GB = preds_val['GB'],STK = preds_val['STK'])\n",
    "\n",
    "stacked_test_1 = Stack(EXT = predictions['EXT'], tree = predictions['tree'], KNN = predictions['KNN'],\n",
    "                        RFC = predictions['RandomForest'],XGB = predictions['XGB'], LGBM = predictions['LGBM'],\n",
    "                    LGBM_1 = predictions['LGBM_1'],EXT_1 = predictions['EXT_1'],GB = predictions['GB'],\n",
    "                    STK = predictions['STK'])"
   ]
  },
  {
   "cell_type": "code",
   "execution_count": 88,
   "metadata": {},
   "outputs": [],
   "source": [
    "meta_estimators = {'LGR':LogisticRegression(random_state=45),\n",
    "                  'XGB':xgb.XGBClassifier(random_state=45), 'RFC': RandomForestClassifier(random_state=45),\n",
    "                  'STK':stack}"
   ]
  },
  {
   "cell_type": "code",
   "execution_count": null,
   "metadata": {},
   "outputs": [],
   "source": [
    "stk_train_scores, stk_val_scores, stk_named_models,stk_preds_val, stk_predictions = Train_Evaluate(meta_estimators,\n",
    "                                                                stacked_train, Target, test_data=stacked_test)"
   ]
  },
  {
   "cell_type": "code",
   "execution_count": null,
   "metadata": {},
   "outputs": [],
   "source": [
    "stk_train_scores, stk_val_scores, stk_named_models,stk_preds_val, stk_predictions = Train_Evaluate(meta_estimators,\n",
    "                                                                stacked_train_1, Target, test_data=stacked_test_1)"
   ]
  },
  {
   "cell_type": "code",
   "execution_count": 189,
   "metadata": {},
   "outputs": [
    {
     "data": {
      "text/plain": [
       "{'LGR': 0.964965003788018,\n",
       " 'XGB': 0.9656330759958746,\n",
       " 'RFC': 0.9656330759958746}"
      ]
     },
     "execution_count": 189,
     "metadata": {},
     "output_type": "execute_result"
    }
   ],
   "source": [
    "stk_val_scores"
   ]
  },
  {
   "cell_type": "code",
   "execution_count": 93,
   "metadata": {},
   "outputs": [
    {
     "data": {
      "text/plain": [
       "{'LGR': 0.9676005245552348,\n",
       " 'XGB': 0.968052627643789,\n",
       " 'RFC': 0.9679684798668795,\n",
       " 'STK': 0.9680550792056712}"
      ]
     },
     "execution_count": 93,
     "metadata": {},
     "output_type": "execute_result"
    }
   ],
   "source": [
    "stk_val_scores"
   ]
  },
  {
   "cell_type": "code",
   "execution_count": 96,
   "metadata": {},
   "outputs": [
    {
     "data": {
      "text/plain": [
       "{'EXT': 0.9637787468753792,\n",
       " 'KNN': 0.9066291734931979,\n",
       " 'tree': 0.9273230223900122,\n",
       " 'GB': 0.779687884014168,\n",
       " 'LGBM_1': 0.8123414410061454,\n",
       " 'EXT_1': 0.7340722560258363,\n",
       " 'RandomForest': 0.9608010310658628,\n",
       " 'XGB': 0.946581661317131,\n",
       " 'LGBM': 0.9307105518663381,\n",
       " 'STK': 0.9674250121324889}"
      ]
     },
     "execution_count": 96,
     "metadata": {},
     "output_type": "execute_result"
    }
   ],
   "source": [
    "val_scores"
   ]
  },
  {
   "cell_type": "code",
   "execution_count": 97,
   "metadata": {},
   "outputs": [
    {
     "data": {
      "text/plain": [
       "dict_keys(['LGR', 'XGB', 'RFC', 'STK'])"
      ]
     },
     "execution_count": 97,
     "metadata": {},
     "output_type": "execute_result"
    }
   ],
   "source": [
    "stk_predictions.keys()"
   ]
  },
  {
   "cell_type": "code",
   "execution_count": 301,
   "metadata": {},
   "outputs": [],
   "source": [
    "preds_array = np.array([stk_preds_val['LGR'],\n",
    "                        stk_preds_val['RFC'],stk_preds_val['XGB']])\n",
    "\n",
    "blends = get_mode(preds_array)"
   ]
  },
  {
   "cell_type": "code",
   "execution_count": 302,
   "metadata": {},
   "outputs": [
    {
     "data": {
      "text/plain": [
       "0.9668341708542714"
      ]
     },
     "execution_count": 302,
     "metadata": {},
     "output_type": "execute_result"
    }
   ],
   "source": [
    "f1_score(Target,blends)"
   ]
  },
  {
   "cell_type": "code",
   "execution_count": 303,
   "metadata": {},
   "outputs": [],
   "source": [
    "blend_df = np.array([stk_predictions['LGR'],stk_predictions['RFC'],stk_predictions['XGB']])\n",
    "blended =  get_mode(blend_df)"
   ]
  },
  {
   "cell_type": "code",
   "execution_count": 94,
   "metadata": {},
   "outputs": [],
   "source": [
    "\n",
    "\n",
    "submit = Test[['ID']]\n",
    "for name, pred in preds.items():\n",
    "    if name in ['STK','EXT','RandomForest','XGB']:\n",
    "        submit['target'] = pred\n",
    "        submit.to_csv(f'SUBMIT_{name}_NEWEST.csv', index=False)"
   ]
  },
  {
   "cell_type": "code",
   "execution_count": 99,
   "metadata": {},
   "outputs": [],
   "source": [
    "\n",
    "\n",
    "submit = Test[['ID']]\n",
    "\n",
    "for name, pred in stk_predictions.items():\n",
    "    \n",
    "    submit['target'] = pred\n",
    "    submit.to_csv(f'./Stack_preds/MY_NEWEST_SUBMISSION_{name}_STACK.csv', index=False)"
   ]
  },
  {
   "cell_type": "code",
   "execution_count": 196,
   "metadata": {},
   "outputs": [],
   "source": [
    "submit = Test[['ID']]\n",
    "submit['target'] = blended\n",
    "submit.to_csv('Submit_stack_blend_newwest.csv', index=False)"
   ]
  },
  {
   "cell_type": "code",
   "execution_count": 98,
   "metadata": {},
   "outputs": [],
   "source": [
    "submit = Test[['ID']]\n",
    "submit['target'] = preds['RandomForest']\n",
    "\n",
    "submit.to_csv('submit_rfc1.csv', index=False)"
   ]
  },
  {
   "cell_type": "code",
   "execution_count": null,
   "metadata": {},
   "outputs": [],
   "source": [
    "Training: GradientBoosting"
   ]
  },
  {
   "cell_type": "code",
   "execution_count": 238,
   "metadata": {},
   "outputs": [
    {
     "data": {
      "text/html": [
       "<div>\n",
       "<style scoped>\n",
       "    .dataframe tbody tr th:only-of-type {\n",
       "        vertical-align: middle;\n",
       "    }\n",
       "\n",
       "    .dataframe tbody tr th {\n",
       "        vertical-align: top;\n",
       "    }\n",
       "\n",
       "    .dataframe thead th {\n",
       "        text-align: right;\n",
       "    }\n",
       "</style>\n",
       "<table border=\"1\" class=\"dataframe\">\n",
       "  <thead>\n",
       "    <tr style=\"text-align: right;\">\n",
       "      <th></th>\n",
       "      <th>ID</th>\n",
       "      <th>target</th>\n",
       "    </tr>\n",
       "  </thead>\n",
       "  <tbody>\n",
       "    <tr>\n",
       "      <th>0</th>\n",
       "      <td>009D84L</td>\n",
       "      <td>1</td>\n",
       "    </tr>\n",
       "    <tr>\n",
       "      <th>1</th>\n",
       "      <td>01DO2EQ</td>\n",
       "      <td>1</td>\n",
       "    </tr>\n",
       "    <tr>\n",
       "      <th>2</th>\n",
       "      <td>01QM0NU</td>\n",
       "      <td>0</td>\n",
       "    </tr>\n",
       "    <tr>\n",
       "      <th>3</th>\n",
       "      <td>024NJLZ</td>\n",
       "      <td>0</td>\n",
       "    </tr>\n",
       "    <tr>\n",
       "      <th>4</th>\n",
       "      <td>02BYET3</td>\n",
       "      <td>1</td>\n",
       "    </tr>\n",
       "  </tbody>\n",
       "</table>\n",
       "</div>"
      ],
      "text/plain": [
       "        ID  target\n",
       "0  009D84L       1\n",
       "1  01DO2EQ       1\n",
       "2  01QM0NU       0\n",
       "3  024NJLZ       0\n",
       "4  02BYET3       1"
      ]
     },
     "execution_count": 238,
     "metadata": {},
     "output_type": "execute_result"
    }
   ],
   "source": [
    "submit.head()"
   ]
  },
  {
   "cell_type": "code",
   "execution_count": null,
   "metadata": {},
   "outputs": [],
   "source": []
  }
 ],
 "metadata": {
  "kernelspec": {
   "display_name": "Python 3",
   "language": "python",
   "name": "python3"
  },
  "language_info": {
   "codemirror_mode": {
    "name": "ipython",
    "version": 3
   },
   "file_extension": ".py",
   "mimetype": "text/x-python",
   "name": "python",
   "nbconvert_exporter": "python",
   "pygments_lexer": "ipython3",
   "version": "3.7.6"
  }
 },
 "nbformat": 4,
 "nbformat_minor": 4
}
